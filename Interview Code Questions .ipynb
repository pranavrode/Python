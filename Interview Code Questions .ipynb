{
 "cells": [
  {
   "cell_type": "markdown",
   "id": "9b389c4d",
   "metadata": {},
   "source": [
    "### Check if list contains integer x"
   ]
  },
  {
   "cell_type": "code",
   "execution_count": 15,
   "id": "28417b17",
   "metadata": {},
   "outputs": [
    {
     "name": "stdout",
     "output_type": "stream",
     "text": [
      "True\n"
     ]
    }
   ],
   "source": [
    "l = [3,3,5,5,8,111,9,5,2,4]\n",
    "print(111 in l)"
   ]
  },
  {
   "cell_type": "markdown",
   "id": "7f7e5151",
   "metadata": {},
   "source": [
    "### Find duplicate number in integer list"
   ]
  },
  {
   "cell_type": "code",
   "execution_count": 16,
   "id": "8ba5ea15",
   "metadata": {},
   "outputs": [],
   "source": [
    "def find_duplicates(elements):\n",
    "    duplicates, seen = set(), set()\n",
    "    for element in elements:\n",
    "        if element in seen:\n",
    "            duplicates.add(element)\n",
    "        seen.add(element)\n",
    "    return list(duplicates)\n",
    "    print(duplicates)"
   ]
  },
  {
   "cell_type": "code",
   "execution_count": 17,
   "id": "60454c47",
   "metadata": {},
   "outputs": [
    {
     "name": "stdout",
     "output_type": "stream",
     "text": [
      "[3, 5]\n"
     ]
    }
   ],
   "source": [
    "print(find_duplicates(l))"
   ]
  },
  {
   "cell_type": "markdown",
   "id": "dc0fc0f4",
   "metadata": {},
   "source": [
    "### Check if two strings are anagrams"
   ]
  },
  {
   "cell_type": "code",
   "execution_count": 4,
   "id": "7d429227",
   "metadata": {},
   "outputs": [],
   "source": [
    "def is_anagram(s1, s2):\n",
    "    return set(s1) == set(s2)"
   ]
  },
  {
   "cell_type": "code",
   "execution_count": 5,
   "id": "0cb5c10a",
   "metadata": {},
   "outputs": [
    {
     "name": "stdout",
     "output_type": "stream",
     "text": [
      "True\n"
     ]
    }
   ],
   "source": [
    "print( is_anagram(\"elvis\",\"lives\") )"
   ]
  },
  {
   "cell_type": "markdown",
   "id": "5e4f0cb8",
   "metadata": {},
   "source": [
    "### Remove all duplicates from list"
   ]
  },
  {
   "cell_type": "code",
   "execution_count": 6,
   "id": "db52c136",
   "metadata": {},
   "outputs": [
    {
     "name": "stdout",
     "output_type": "stream",
     "text": [
      "[0, 1, 2, 3, 4, 5, 6, 7, 8, 9]\n"
     ]
    }
   ],
   "source": [
    "lst = list(range(10)) + list(range(10))\n",
    "lst = list(set(lst))\n",
    "print(lst)"
   ]
  },
  {
   "cell_type": "markdown",
   "id": "43cd9c56",
   "metadata": {},
   "source": [
    "### Find pairs of integers in list so that their sum is \n",
    "### equal to integer x"
   ]
  },
  {
   "cell_type": "code",
   "execution_count": 7,
   "id": "180f14d0",
   "metadata": {},
   "outputs": [],
   "source": [
    "def find_pairs(l, x):\n",
    "    pairs=[]\n",
    "    for (i, el_1) in enumerate(l):\n",
    "        for (j, el_2) in enumerate(l[i+1:]):\n",
    "            if el_1 + el_2 == x:\n",
    "                pairs.append((el_1, el_2))\n",
    "    return pairs"
   ]
  },
  {
   "cell_type": "code",
   "execution_count": 8,
   "id": "3b8b6484",
   "metadata": {},
   "outputs": [
    {
     "data": {
      "text/plain": [
       "[(3, 3), (2, 4)]"
      ]
     },
     "execution_count": 8,
     "metadata": {},
     "output_type": "execute_result"
    }
   ],
   "source": [
    "find_pairs(l, 6)"
   ]
  },
  {
   "cell_type": "markdown",
   "id": "d1040442",
   "metadata": {},
   "source": [
    "### Enumerate given list"
   ]
  },
  {
   "cell_type": "code",
   "execution_count": 9,
   "id": "03be7f2f",
   "metadata": {},
   "outputs": [
    {
     "name": "stdout",
     "output_type": "stream",
     "text": [
      "0 3\n",
      "1 3\n",
      "2 5\n",
      "3 5\n",
      "4 8\n",
      "5 111\n",
      "6 9\n",
      "7 5\n",
      "8 2\n",
      "9 4\n"
     ]
    }
   ],
   "source": [
    "for (i, el_1) in enumerate(l):\n",
    "    print(i ,el_1)"
   ]
  },
  {
   "cell_type": "markdown",
   "id": "a71b4a8d",
   "metadata": {},
   "source": [
    "### Check if a string is a palindrome"
   ]
  },
  {
   "cell_type": "code",
   "execution_count": 86,
   "id": "60ca0af7",
   "metadata": {},
   "outputs": [
    {
     "name": "stdout",
     "output_type": "stream",
     "text": [
      "True\n"
     ]
    }
   ],
   "source": [
    "def is_palindrome(word):\n",
    "    return word == word[::-1]\n",
    "print(is_palindrome('malayalam'))"
   ]
  },
  {
   "cell_type": "code",
   "execution_count": 88,
   "id": "03faff9a",
   "metadata": {},
   "outputs": [
    {
     "data": {
      "text/plain": [
       "True"
      ]
     },
     "execution_count": 88,
     "metadata": {},
     "output_type": "execute_result"
    }
   ],
   "source": [
    "is_palindrome('123321')"
   ]
  },
  {
   "cell_type": "markdown",
   "id": "942cf6cb",
   "metadata": {},
   "source": [
    "### Use list as stack, array, and queue"
   ]
  },
  {
   "cell_type": "code",
   "execution_count": 11,
   "id": "58fc6cb6",
   "metadata": {},
   "outputs": [
    {
     "name": "stdout",
     "output_type": "stream",
     "text": [
      "[3, 4]\n"
     ]
    }
   ],
   "source": [
    "# as a list\n",
    "l = [3,4]\n",
    "l + [5,6] \n",
    "print(l )"
   ]
  },
  {
   "cell_type": "code",
   "execution_count": 12,
   "id": "def96d2d",
   "metadata": {},
   "outputs": [
    {
     "name": "stdout",
     "output_type": "stream",
     "text": [
      "[3, 4, 10]\n",
      "[3, 4]\n"
     ]
    }
   ],
   "source": [
    "# as a stack\n",
    "l.append(10)\n",
    "print(l)\n",
    "l.pop()\n",
    "print(l)"
   ]
  },
  {
   "cell_type": "code",
   "execution_count": 13,
   "id": "3221d9ec",
   "metadata": {},
   "outputs": [
    {
     "name": "stdout",
     "output_type": "stream",
     "text": [
      "[5, 3, 4]\n",
      "[5, 3]\n"
     ]
    }
   ],
   "source": [
    "# as a queue\n",
    "l.insert(0,5)\n",
    "print(l)\n",
    "l.pop()\n",
    "print(l)"
   ]
  },
  {
   "cell_type": "markdown",
   "id": "deec49e6",
   "metadata": {},
   "source": [
    "### Get missing number in [1...100]"
   ]
  },
  {
   "cell_type": "code",
   "execution_count": 14,
   "id": "95c37233",
   "metadata": {},
   "outputs": [],
   "source": [
    "def get_missing_number(lst):\n",
    "    print(len(lst))\n",
    "    return set(range(lst[len(lst)-1])[1:]) - set(l)\n",
    "\n"
   ]
  },
  {
   "cell_type": "code",
   "execution_count": 15,
   "id": "08df9725",
   "metadata": {},
   "outputs": [
    {
     "name": "stdout",
     "output_type": "stream",
     "text": [
      "98\n",
      "{45}\n"
     ]
    }
   ],
   "source": [
    "l= list(range(1,100))\n",
    "l.remove(45)    # removing a number\n",
    "print(get_missing_number(l))"
   ]
  },
  {
   "cell_type": "markdown",
   "id": "e621e2df",
   "metadata": {},
   "source": [
    "### Compute the intersection of two lists"
   ]
  },
  {
   "cell_type": "code",
   "execution_count": 16,
   "id": "91d5d139",
   "metadata": {},
   "outputs": [],
   "source": [
    "def intersect(lst1 , lst2):\n",
    "    res, lst2_copy = [], lst2[:]\n",
    "    for el in lst1:\n",
    "        if el in lst2_copy:\n",
    "            res.append(el)\n",
    "            lst2_copy.remove(el)\n",
    "    return res"
   ]
  },
  {
   "cell_type": "code",
   "execution_count": 17,
   "id": "5fde41e4",
   "metadata": {},
   "outputs": [
    {
     "data": {
      "text/plain": [
       "[1, 3, 4, 8, 7]"
      ]
     },
     "execution_count": 17,
     "metadata": {},
     "output_type": "execute_result"
    }
   ],
   "source": [
    "l1 = [1,3,3,4,4,9,8,7]\n",
    "l2 = [1,2,3,4,5,7,8,2,10]\n",
    "intersect(l1 , l2)"
   ]
  },
  {
   "cell_type": "markdown",
   "id": "641cdea0",
   "metadata": {},
   "source": [
    "### Find max and min in unsorted list"
   ]
  },
  {
   "cell_type": "code",
   "execution_count": 18,
   "id": "7f25e4b5",
   "metadata": {},
   "outputs": [
    {
     "name": "stdout",
     "output_type": "stream",
     "text": [
      "Max =  888\n",
      "Min =  -11\n"
     ]
    }
   ],
   "source": [
    "l = [4,3,6,3,4,888,1,-11,22,3]\n",
    "print(\"Max = \", max(l))\n",
    "print(\"Min = \", min(l))"
   ]
  },
  {
   "cell_type": "markdown",
   "id": "a9f0d7eb",
   "metadata": {},
   "source": [
    "### Reverse string using recursion"
   ]
  },
  {
   "cell_type": "code",
   "execution_count": 8,
   "id": "8088f44a",
   "metadata": {},
   "outputs": [],
   "source": [
    "def reverse(string):\n",
    "    if len(string)<=1:\n",
    "        return string\n",
    "    \n",
    "    return reverse(string[1:])+string[0]"
   ]
  },
  {
   "cell_type": "markdown",
   "id": "595cf85c",
   "metadata": {},
   "source": [
    "# Tiger Analytics"
   ]
  },
  {
   "cell_type": "markdown",
   "id": "b02e87ae",
   "metadata": {},
   "source": [
    "### Write a python program to find missing numbers from a list\n",
    "example:\n",
    "input = [1,2,3,4,6,7,10]\n",
    "output= [5,8,9]"
   ]
  },
  {
   "cell_type": "code",
   "execution_count": 20,
   "id": "97784f29",
   "metadata": {},
   "outputs": [],
   "source": [
    "## Using list comprehension method"
   ]
  },
  {
   "cell_type": "code",
   "execution_count": 21,
   "id": "a38ab2a2",
   "metadata": {},
   "outputs": [],
   "source": [
    "def missing_numbers_1(lst):\n",
    "    return [x for x in range(lst[0],lst[-1]+1) if x not in lst]"
   ]
  },
  {
   "cell_type": "code",
   "execution_count": 22,
   "id": "3bea3239",
   "metadata": {},
   "outputs": [
    {
     "data": {
      "text/plain": [
       "[5, 8, 9]"
      ]
     },
     "execution_count": 22,
     "metadata": {},
     "output_type": "execute_result"
    }
   ],
   "source": [
    "input = [1,2,3,4,6,7,10]\n",
    "missing_numbers_1(input)"
   ]
  },
  {
   "cell_type": "code",
   "execution_count": 23,
   "id": "07358db0",
   "metadata": {},
   "outputs": [],
   "source": [
    "## Time Complexity O(n^2)"
   ]
  },
  {
   "cell_type": "code",
   "execution_count": 24,
   "id": "e19a9ebd",
   "metadata": {},
   "outputs": [],
   "source": [
    "def missing_numbers_2(lst):\n",
    "    n = len(lst)\n",
    "    b=[0]*(lst[n-1]+1)\n",
    "    for i in range(n):\n",
    "        b[lst[i]]=1\n",
    "    for i in range(lst[0],lst[n-1]+1):\n",
    "        if (b[i]==0):\n",
    "            print(i,end=\" \")           "
   ]
  },
  {
   "cell_type": "code",
   "execution_count": 25,
   "id": "faab06ff",
   "metadata": {},
   "outputs": [
    {
     "name": "stdout",
     "output_type": "stream",
     "text": [
      "5 8 9 "
     ]
    }
   ],
   "source": [
    "missing_numbers_2(input)"
   ]
  },
  {
   "cell_type": "code",
   "execution_count": 26,
   "id": "c7a4d4a9",
   "metadata": {},
   "outputs": [],
   "source": [
    "## O(M) = m(maximum number in the list)"
   ]
  },
  {
   "cell_type": "code",
   "execution_count": 27,
   "id": "c2c45b69",
   "metadata": {},
   "outputs": [],
   "source": [
    "def missing_numbers_3(lst):\n",
    "    n=len(lst)\n",
    "    c=0\n",
    "    for i in range(lst[0],lst[n-1]+1):\n",
    "        if(lst[c]==i):\n",
    "            c+=1\n",
    "        else:\n",
    "            print(i,end=\" \")"
   ]
  },
  {
   "cell_type": "code",
   "execution_count": 28,
   "id": "b17a07f8",
   "metadata": {},
   "outputs": [
    {
     "data": {
      "text/plain": [
       "7"
      ]
     },
     "execution_count": 28,
     "metadata": {},
     "output_type": "execute_result"
    }
   ],
   "source": [
    "len(input)"
   ]
  },
  {
   "cell_type": "code",
   "execution_count": 29,
   "id": "48721db8",
   "metadata": {},
   "outputs": [
    {
     "name": "stdout",
     "output_type": "stream",
     "text": [
      "5 8 9 "
     ]
    }
   ],
   "source": [
    "missing_numbers_3(input)"
   ]
  },
  {
   "cell_type": "markdown",
   "id": "41ac33d6",
   "metadata": {},
   "source": [
    "## ---------------------------"
   ]
  },
  {
   "cell_type": "markdown",
   "id": "f1dc4e21",
   "metadata": {},
   "source": [
    "### Reverse the list without using built-in function or extra variable"
   ]
  },
  {
   "cell_type": "markdown",
   "id": "155010ad",
   "metadata": {},
   "source": [
    "#### Swap Method"
   ]
  },
  {
   "cell_type": "code",
   "execution_count": 30,
   "id": "2f1470fb",
   "metadata": {},
   "outputs": [],
   "source": [
    "list1 = [1,2,3,4,5,6]\n",
    "L = len(list1)"
   ]
  },
  {
   "cell_type": "code",
   "execution_count": 31,
   "id": "97e77da5",
   "metadata": {},
   "outputs": [
    {
     "name": "stdout",
     "output_type": "stream",
     "text": [
      "[6, 5, 4, 3, 2, 1]\n"
     ]
    }
   ],
   "source": [
    "for i in range(int(L/2)):\n",
    "    n = list1[i]\n",
    "    list1[i] = list1[L - i - 1]\n",
    "    list1[L - i - 1] = n\n",
    "    \n",
    "print(list1)"
   ]
  },
  {
   "cell_type": "markdown",
   "id": "0d6aafd2",
   "metadata": {},
   "source": [
    "#### Recursion Function"
   ]
  },
  {
   "cell_type": "code",
   "execution_count": 10,
   "id": "f31a75e6",
   "metadata": {},
   "outputs": [],
   "source": [
    "list1 = [1,2,3,4,5,6]"
   ]
  },
  {
   "cell_type": "code",
   "execution_count": 11,
   "id": "80eea611",
   "metadata": {},
   "outputs": [],
   "source": [
    "def reverse_fun(lst):\n",
    "    if len(lst) == 1:\n",
    "        return lst\n",
    "    # Otherwise\n",
    "    return reverse_fun(lst[1:]) + lst[0:1]"
   ]
  },
  {
   "cell_type": "code",
   "execution_count": 13,
   "id": "2d77d0b9",
   "metadata": {},
   "outputs": [
    {
     "data": {
      "text/plain": [
       "'1tsil'"
      ]
     },
     "execution_count": 13,
     "metadata": {},
     "output_type": "execute_result"
    }
   ],
   "source": [
    "reverse_fun('list1')"
   ]
  },
  {
   "cell_type": "markdown",
   "id": "bc3bc6fd",
   "metadata": {},
   "source": [
    "#### Slice notation"
   ]
  },
  {
   "cell_type": "code",
   "execution_count": 35,
   "id": "06c77e9a",
   "metadata": {},
   "outputs": [],
   "source": [
    "list1 = [1,2,3,4,5,6]"
   ]
  },
  {
   "cell_type": "code",
   "execution_count": 36,
   "id": "baee9288",
   "metadata": {},
   "outputs": [],
   "source": [
    "def reverse1(lst):\n",
    "    return lst[::-1]"
   ]
  },
  {
   "cell_type": "code",
   "execution_count": 37,
   "id": "ee3b494c",
   "metadata": {},
   "outputs": [
    {
     "data": {
      "text/plain": [
       "[6, 5, 4, 3, 2, 1]"
      ]
     },
     "execution_count": 37,
     "metadata": {},
     "output_type": "execute_result"
    }
   ],
   "source": [
    "reverse1(list1)"
   ]
  },
  {
   "cell_type": "markdown",
   "id": "dc421bdb",
   "metadata": {},
   "source": [
    "### Create a reverse method for a python list from scratch"
   ]
  },
  {
   "cell_type": "code",
   "execution_count": 38,
   "id": "faced246",
   "metadata": {},
   "outputs": [],
   "source": [
    "def reverse_fun(data_list):\n",
    "    length = len(data_list)\n",
    "    s = length\n",
    "\n",
    "    new_list = [None] * length\n",
    "    for item in data_list:\n",
    "        s = s - 1\n",
    "        new_list[s] = item\n",
    "    return new_list"
   ]
  },
  {
   "cell_type": "code",
   "execution_count": 39,
   "id": "9c174aa6",
   "metadata": {},
   "outputs": [
    {
     "data": {
      "text/plain": [
       "[6, 5, 4, 3, 2, 1]"
      ]
     },
     "execution_count": 39,
     "metadata": {},
     "output_type": "execute_result"
    }
   ],
   "source": [
    "reverse_fun(list1)"
   ]
  },
  {
   "cell_type": "code",
   "execution_count": 40,
   "id": "f322e94b",
   "metadata": {},
   "outputs": [
    {
     "name": "stdout",
     "output_type": "stream",
     "text": [
      "(1, 2, 3, 4, 6)\n",
      "(1, 2, 3, 6, 4)\n",
      "(1, 2, 4, 3, 6)\n",
      "(1, 2, 4, 6, 3)\n",
      "(1, 2, 6, 3, 4)\n",
      "(1, 2, 6, 4, 3)\n",
      "(1, 3, 2, 4, 6)\n",
      "(1, 3, 2, 6, 4)\n",
      "(1, 3, 4, 2, 6)\n",
      "(1, 3, 4, 6, 2)\n",
      "(1, 3, 6, 2, 4)\n",
      "(1, 3, 6, 4, 2)\n",
      "(1, 4, 2, 3, 6)\n",
      "(1, 4, 2, 6, 3)\n",
      "(1, 4, 3, 2, 6)\n",
      "(1, 4, 3, 6, 2)\n",
      "(1, 4, 6, 2, 3)\n",
      "(1, 4, 6, 3, 2)\n",
      "(1, 6, 2, 3, 4)\n",
      "(1, 6, 2, 4, 3)\n",
      "(1, 6, 3, 2, 4)\n",
      "(1, 6, 3, 4, 2)\n",
      "(1, 6, 4, 2, 3)\n",
      "(1, 6, 4, 3, 2)\n",
      "(2, 1, 3, 4, 6)\n",
      "(2, 1, 3, 6, 4)\n",
      "(2, 1, 4, 3, 6)\n",
      "(2, 1, 4, 6, 3)\n",
      "(2, 1, 6, 3, 4)\n",
      "(2, 1, 6, 4, 3)\n",
      "(2, 3, 1, 4, 6)\n",
      "(2, 3, 1, 6, 4)\n",
      "(2, 3, 4, 1, 6)\n",
      "(2, 3, 4, 6, 1)\n",
      "(2, 3, 6, 1, 4)\n",
      "(2, 3, 6, 4, 1)\n",
      "(2, 4, 1, 3, 6)\n",
      "(2, 4, 1, 6, 3)\n",
      "(2, 4, 3, 1, 6)\n",
      "(2, 4, 3, 6, 1)\n",
      "(2, 4, 6, 1, 3)\n",
      "(2, 4, 6, 3, 1)\n",
      "(2, 6, 1, 3, 4)\n",
      "(2, 6, 1, 4, 3)\n",
      "(2, 6, 3, 1, 4)\n",
      "(2, 6, 3, 4, 1)\n",
      "(2, 6, 4, 1, 3)\n",
      "(2, 6, 4, 3, 1)\n",
      "(3, 1, 2, 4, 6)\n",
      "(3, 1, 2, 6, 4)\n",
      "(3, 1, 4, 2, 6)\n",
      "(3, 1, 4, 6, 2)\n",
      "(3, 1, 6, 2, 4)\n",
      "(3, 1, 6, 4, 2)\n",
      "(3, 2, 1, 4, 6)\n",
      "(3, 2, 1, 6, 4)\n",
      "(3, 2, 4, 1, 6)\n",
      "(3, 2, 4, 6, 1)\n",
      "(3, 2, 6, 1, 4)\n",
      "(3, 2, 6, 4, 1)\n",
      "(3, 4, 1, 2, 6)\n",
      "(3, 4, 1, 6, 2)\n",
      "(3, 4, 2, 1, 6)\n",
      "(3, 4, 2, 6, 1)\n",
      "(3, 4, 6, 1, 2)\n",
      "(3, 4, 6, 2, 1)\n",
      "(3, 6, 1, 2, 4)\n",
      "(3, 6, 1, 4, 2)\n",
      "(3, 6, 2, 1, 4)\n",
      "(3, 6, 2, 4, 1)\n",
      "(3, 6, 4, 1, 2)\n",
      "(3, 6, 4, 2, 1)\n",
      "(4, 1, 2, 3, 6)\n",
      "(4, 1, 2, 6, 3)\n",
      "(4, 1, 3, 2, 6)\n",
      "(4, 1, 3, 6, 2)\n",
      "(4, 1, 6, 2, 3)\n",
      "(4, 1, 6, 3, 2)\n",
      "(4, 2, 1, 3, 6)\n",
      "(4, 2, 1, 6, 3)\n",
      "(4, 2, 3, 1, 6)\n",
      "(4, 2, 3, 6, 1)\n",
      "(4, 2, 6, 1, 3)\n",
      "(4, 2, 6, 3, 1)\n",
      "(4, 3, 1, 2, 6)\n",
      "(4, 3, 1, 6, 2)\n",
      "(4, 3, 2, 1, 6)\n",
      "(4, 3, 2, 6, 1)\n",
      "(4, 3, 6, 1, 2)\n",
      "(4, 3, 6, 2, 1)\n",
      "(4, 6, 1, 2, 3)\n",
      "(4, 6, 1, 3, 2)\n",
      "(4, 6, 2, 1, 3)\n",
      "(4, 6, 2, 3, 1)\n",
      "(4, 6, 3, 1, 2)\n",
      "(4, 6, 3, 2, 1)\n",
      "(6, 1, 2, 3, 4)\n",
      "(6, 1, 2, 4, 3)\n",
      "(6, 1, 3, 2, 4)\n",
      "(6, 1, 3, 4, 2)\n",
      "(6, 1, 4, 2, 3)\n",
      "(6, 1, 4, 3, 2)\n",
      "(6, 2, 1, 3, 4)\n",
      "(6, 2, 1, 4, 3)\n",
      "(6, 2, 3, 1, 4)\n",
      "(6, 2, 3, 4, 1)\n",
      "(6, 2, 4, 1, 3)\n",
      "(6, 2, 4, 3, 1)\n",
      "(6, 3, 1, 2, 4)\n",
      "(6, 3, 1, 4, 2)\n",
      "(6, 3, 2, 1, 4)\n",
      "(6, 3, 2, 4, 1)\n",
      "(6, 3, 4, 1, 2)\n",
      "(6, 3, 4, 2, 1)\n",
      "(6, 4, 1, 2, 3)\n",
      "(6, 4, 1, 3, 2)\n",
      "(6, 4, 2, 1, 3)\n",
      "(6, 4, 2, 3, 1)\n",
      "(6, 4, 3, 1, 2)\n",
      "(6, 4, 3, 2, 1)\n"
     ]
    }
   ],
   "source": [
    "from itertools import permutations\n",
    " \n",
    "# Get all permutations of [1,2,3,4,5]\n",
    "perm = permutations([1,2,3,4,6])\n",
    " \n",
    "# Print the obtained permutations\n",
    "lst = []\n",
    "for i in list(perm):\n",
    "    print (i)\n",
    "    lst.append(i)"
   ]
  },
  {
   "cell_type": "code",
   "execution_count": 41,
   "id": "3e9f558d",
   "metadata": {},
   "outputs": [
    {
     "name": "stdout",
     "output_type": "stream",
     "text": [
      "(1, 2)\n",
      "(1, 3)\n",
      "(1, 4)\n",
      "(1, 6)\n",
      "(2, 3)\n",
      "(2, 4)\n",
      "(2, 6)\n",
      "(3, 4)\n",
      "(3, 6)\n",
      "(4, 6)\n"
     ]
    }
   ],
   "source": [
    "from itertools import combinations\n",
    " \n",
    "# Get all permutations of [1,2,3,4,5]\n",
    "comb = combinations([1,2,3,4,6],2)\n",
    " \n",
    "# Print the obtained permutations\n",
    "lst = []\n",
    "for i in list(comb):\n",
    "    print (i)\n",
    "    lst.append(i)"
   ]
  },
  {
   "cell_type": "code",
   "execution_count": 42,
   "id": "75c056dd",
   "metadata": {},
   "outputs": [],
   "source": [
    "# "
   ]
  },
  {
   "cell_type": "code",
   "execution_count": 43,
   "id": "7f943d0f",
   "metadata": {},
   "outputs": [
    {
     "name": "stdout",
     "output_type": "stream",
     "text": [
      "edoR vanarP"
     ]
    }
   ],
   "source": [
    "def reverse(string):\n",
    "    if len(string) == 0:\n",
    "        return\n",
    "     \n",
    "    temp = string[0]\n",
    "    reverse(string[1:])\n",
    "    print(temp , end=\"\")\n",
    " \n",
    "# Driver program to test above function\n",
    "strng = \"Pranav Rode\"\n",
    "reverse(strng)"
   ]
  },
  {
   "cell_type": "markdown",
   "id": "07852b26",
   "metadata": {},
   "source": [
    "## Fibonacci code"
   ]
  },
  {
   "cell_type": "code",
   "execution_count": 44,
   "id": "6ba9d827",
   "metadata": {},
   "outputs": [],
   "source": [
    "def fib(n):\n",
    "    a,b = 0,1\n",
    "    list=[0,1]\n",
    "    for i in range(2,n):\n",
    "        c=a+b\n",
    "        list.append(c)\n",
    "        a=b\n",
    "        b=c\n",
    "    return list"
   ]
  },
  {
   "cell_type": "code",
   "execution_count": 45,
   "id": "70c22ff6",
   "metadata": {
    "scrolled": true
   },
   "outputs": [
    {
     "data": {
      "text/plain": [
       "[0, 1, 1, 2, 3, 5, 8, 13, 21, 34]"
      ]
     },
     "execution_count": 45,
     "metadata": {},
     "output_type": "execute_result"
    }
   ],
   "source": [
    "fib(10)"
   ]
  },
  {
   "cell_type": "markdown",
   "id": "638c1b44",
   "metadata": {},
   "source": [
    "## Create new list and add 1 to duplicate elements in given list"
   ]
  },
  {
   "cell_type": "code",
   "execution_count": 46,
   "id": "cdc583f5",
   "metadata": {},
   "outputs": [
    {
     "name": "stdout",
     "output_type": "stream",
     "text": [
      "[2, 3, 5, 4, 7, 5]\n"
     ]
    }
   ],
   "source": [
    "list1 = [2,3,5,3,7,4]\n",
    "list2 = []\n",
    "\n",
    "for i in list1:\n",
    "    if i in list2:\n",
    "        a=i+1\n",
    "        list2.append(a)\n",
    "    else:\n",
    "        list2.append(i)\n",
    "        \n",
    "print(list2)"
   ]
  },
  {
   "cell_type": "code",
   "execution_count": 47,
   "id": "91fa10bb",
   "metadata": {},
   "outputs": [
    {
     "name": "stdout",
     "output_type": "stream",
     "text": [
      "[1, 2, 3, 4, 5, 3, 4, 5, 7, 9, 6]\n"
     ]
    }
   ],
   "source": [
    "l=[1,2,3,4,5,2,3,4,7,9,5]\n",
    "l1=[]\n",
    "for i in l:\n",
    "    if i in l1:\n",
    "        a = i+1\n",
    "        l1.append(a)\n",
    "    else:\n",
    "        l1.append(i)\n",
    "print(l1)"
   ]
  },
  {
   "cell_type": "code",
   "execution_count": 48,
   "id": "ce0ab11a",
   "metadata": {},
   "outputs": [
    {
     "name": "stdout",
     "output_type": "stream",
     "text": [
      "[3, 1, 3, 3, 1, 1]\n",
      "[3, 3, 4, 3, 1, 4]\n",
      "[6, 6, 4, 6, 6, 2]\n",
      "[4, 4, 3, 3, 2, 3]\n",
      "[1, 1, 6, 2, 1, 1]\n",
      "[1, 1, 1, 3, 3, 6]\n",
      "[3, 1, 2, 3, 6, 6]\n",
      "[2, 4, 4, 3, 1, 1]\n",
      "[3, 3, 2, 2, 2, 1]\n",
      "[1, 6, 6, 6, 6, 2]\n"
     ]
    }
   ],
   "source": [
    "import random\n",
    "list1 = [1,2,3,4,6]\n",
    "\n",
    "for i in range(10):\n",
    "    print(random.choices(list1 , k=6))"
   ]
  },
  {
   "cell_type": "code",
   "execution_count": 49,
   "id": "0c340660",
   "metadata": {},
   "outputs": [
    {
     "name": "stdout",
     "output_type": "stream",
     "text": [
      "reverselist :  [87, 56, 14, 12, 67, 45]\n"
     ]
    }
   ],
   "source": [
    "listnum = [45,67,12,14,56,87]\n",
    "reverselist =listnum[::-1]\n",
    "print (\"reverselist : \" ,reverselist)"
   ]
  },
  {
   "cell_type": "markdown",
   "id": "eec084a3",
   "metadata": {},
   "source": [
    "## Program to find the max, min number from the list user input."
   ]
  },
  {
   "cell_type": "code",
   "execution_count": 18,
   "id": "d6b6b084",
   "metadata": {},
   "outputs": [
    {
     "name": "stdout",
     "output_type": "stream",
     "text": [
      "Enter number of items in list5\n",
      "Enter number = 78\n",
      "Enter number = 85\n",
      "Enter number = 54\n",
      "Enter number = 65\n",
      "Enter number = 54\n",
      "Given list =  [78, 85, 54, 65, 54]\n",
      "Max =  85 \n",
      "Min =  54\n"
     ]
    }
   ],
   "source": [
    "l = []\n",
    "num = int(input('Enter number of items in list'))\n",
    "\n",
    "for num in range(num):\n",
    "    item = int(input(\"Enter number = \"))\n",
    "    l.append(item)\n",
    "    \n",
    "print(\"Given list = \", l)\n",
    "\n",
    "print(\"Max = \",max(l) , \"\\nMin = \" , min(l))"
   ]
  },
  {
   "cell_type": "markdown",
   "id": "4f2af919",
   "metadata": {},
   "source": [
    "## Code to get unique elements from list using List comprehension"
   ]
  },
  {
   "cell_type": "code",
   "execution_count": 61,
   "id": "7cd80770",
   "metadata": {},
   "outputs": [
    {
     "name": "stdout",
     "output_type": "stream",
     "text": [
      "[2, 4, 6, 8, 9, 5, 1, 10, 13, 12, 14]\n"
     ]
    }
   ],
   "source": [
    "l = [2,4,6,8,2,9,5,6,1,8,10,13,12,14,12]\n",
    "\n",
    "uniq_list = []\n",
    "\n",
    "[uniq_list.append(i) for i in l if i not in uniq_list]\n",
    "\n",
    "print(uniq_list)"
   ]
  },
  {
   "cell_type": "markdown",
   "id": "b6ded248",
   "metadata": {},
   "source": [
    "## Program to find the sum of list elements."
   ]
  },
  {
   "cell_type": "code",
   "execution_count": 79,
   "id": "ab0a0918",
   "metadata": {},
   "outputs": [
    {
     "name": "stdout",
     "output_type": "stream",
     "text": [
      "sum of list items:  294\n",
      "Mean =  36.75\n"
     ]
    }
   ],
   "source": [
    "lstnum = [12, 36, 56, 36, 36, 50, 56, 12] \n",
    " \n",
    "sum = 0\n",
    " \n",
    "for i in range(0, len(lstnum)): \n",
    "    sum = sum + lstnum[i] \n",
    " \n",
    "print(\"sum of list items: \" ,sum)\n",
    "print(\"Mean = \", sum/len(lstnum))"
   ]
  },
  {
   "cell_type": "markdown",
   "id": "8824a133",
   "metadata": {},
   "source": [
    "## Multiply all the elements of list"
   ]
  },
  {
   "cell_type": "code",
   "execution_count": 63,
   "id": "0dd408dc",
   "metadata": {
    "scrolled": true
   },
   "outputs": [
    {
     "name": "stdout",
     "output_type": "stream",
     "text": [
      "multiplication of list items  :  1440\n"
     ]
    }
   ],
   "source": [
    "lstnum = [6, 2, 3, 1, 10, 4] \n",
    "mutiply =1;\n",
    "for ele in lstnum:\n",
    "    mutiply =  mutiply* ele \n",
    " \n",
    "print (\"multiplication of list items  : \" ,mutiply)"
   ]
  },
  {
   "cell_type": "markdown",
   "id": "6c44b0b1",
   "metadata": {},
   "source": [
    "## Flatten a list of lists with a list comprehension"
   ]
  },
  {
   "cell_type": "code",
   "execution_count": 64,
   "id": "c050052c",
   "metadata": {},
   "outputs": [
    {
     "name": "stdout",
     "output_type": "stream",
     "text": [
      "flatten list = [5, 6, 7, 'C#', 'C++', 2, 3]\n"
     ]
    }
   ],
   "source": [
    "listnum = [[5,6,7,'C#'], ['C++',2,3]]\n",
    " \n",
    "flatten_list = [i for j in listnum for i in j]\n",
    " \n",
    "print('flatten list =',flatten_list)"
   ]
  },
  {
   "cell_type": "markdown",
   "id": "d557a6aa",
   "metadata": {},
   "source": [
    "#### Another method"
   ]
  },
  {
   "cell_type": "code",
   "execution_count": 65,
   "id": "8c7167a9",
   "metadata": {},
   "outputs": [
    {
     "name": "stdout",
     "output_type": "stream",
     "text": [
      "[5, 6, 7, 'C#', 'C++', 2, 3]\n"
     ]
    }
   ],
   "source": [
    "listnum = [[5,6,7,'C#'], ['C++',2,3]]\n",
    "l = []\n",
    "for i in listnum:\n",
    "    for j in i:\n",
    "        l.append(j)\n",
    "        \n",
    "print(l)"
   ]
  },
  {
   "cell_type": "markdown",
   "id": "dc6f9e95",
   "metadata": {},
   "source": [
    "## Sum all the items in a list"
   ]
  },
  {
   "cell_type": "code",
   "execution_count": 80,
   "id": "7b1e036a",
   "metadata": {},
   "outputs": [
    {
     "data": {
      "text/plain": [
       "-5"
      ]
     },
     "execution_count": 80,
     "metadata": {},
     "output_type": "execute_result"
    }
   ],
   "source": [
    "def sum_list(items):\n",
    "    sum_numbers = 0\n",
    "    for x in items:\n",
    "        sum_numbers = sum_numbers+ x\n",
    "    return sum_numbers\n",
    "\n",
    "\n",
    "sum_list([1,2,-8])\n"
   ]
  },
  {
   "cell_type": "code",
   "execution_count": 67,
   "id": "6cf4e228",
   "metadata": {},
   "outputs": [
    {
     "data": {
      "text/plain": [
       "15"
      ]
     },
     "execution_count": 67,
     "metadata": {},
     "output_type": "execute_result"
    }
   ],
   "source": [
    "list1 = [1,2,3,4,5]\n",
    "\n",
    "\n",
    "def sum(list):\n",
    "    length = len(list)\n",
    "    result = 0\n",
    "    for i in range(length+1):\n",
    "        result = result + i\n",
    "    return result\n",
    "\n",
    "sum(list1)"
   ]
  },
  {
   "cell_type": "code",
   "execution_count": 68,
   "id": "077790ba",
   "metadata": {},
   "outputs": [
    {
     "name": "stdout",
     "output_type": "stream",
     "text": [
      "['a', 'b', 'c']\n"
     ]
    }
   ],
   "source": [
    "mylist = [\"a\", \"b\", \"a\", \"c\", \"c\"]\n",
    "mylist = list(dict.fromkeys(mylist))\n",
    "print(mylist)"
   ]
  },
  {
   "cell_type": "code",
   "execution_count": 69,
   "id": "2fd452b8",
   "metadata": {},
   "outputs": [
    {
     "data": {
      "text/plain": [
       "<function dict.fromkeys(iterable, value=None, /)>"
      ]
     },
     "execution_count": 69,
     "metadata": {},
     "output_type": "execute_result"
    }
   ],
   "source": [
    "dict.fromkeys"
   ]
  },
  {
   "cell_type": "code",
   "execution_count": 70,
   "id": "46c6137a",
   "metadata": {},
   "outputs": [],
   "source": [
    "test_list = [ 1, 6, 3, 5, 3, 4 ]\n",
    "\n",
    "def exist(num):\n",
    "    for i in test_list:\n",
    "        if(i == num):\n",
    "            return print (\"Element Exists\")\n",
    "        else:\n",
    "            return print(\"Not Exists\")\n",
    "      "
   ]
  },
  {
   "cell_type": "code",
   "execution_count": 71,
   "id": "48642869",
   "metadata": {},
   "outputs": [
    {
     "name": "stdout",
     "output_type": "stream",
     "text": [
      "Not Exists\n"
     ]
    }
   ],
   "source": [
    "exist(10)"
   ]
  },
  {
   "cell_type": "code",
   "execution_count": 72,
   "id": "bfc6c7c2",
   "metadata": {},
   "outputs": [],
   "source": [
    "import math"
   ]
  },
  {
   "cell_type": "code",
   "execution_count": 73,
   "id": "f9da05a9",
   "metadata": {},
   "outputs": [],
   "source": [
    "def comb(n,r):\n",
    "    ans = math.factorial(n) / ( math.factorial(r) * math.factorial(n-r) )\n",
    "    print(ans)"
   ]
  },
  {
   "cell_type": "code",
   "execution_count": 74,
   "id": "35bee573",
   "metadata": {},
   "outputs": [
    {
     "name": "stdout",
     "output_type": "stream",
     "text": [
      "56.0\n"
     ]
    }
   ],
   "source": [
    "comb(8,5) "
   ]
  },
  {
   "cell_type": "code",
   "execution_count": 75,
   "id": "3ce8e4a4",
   "metadata": {},
   "outputs": [
    {
     "name": "stdout",
     "output_type": "stream",
     "text": [
      "15.0\n"
     ]
    }
   ],
   "source": [
    "comb(6,2)"
   ]
  },
  {
   "cell_type": "code",
   "execution_count": 76,
   "id": "0b90732b",
   "metadata": {},
   "outputs": [
    {
     "data": {
      "text/plain": [
       "840"
      ]
     },
     "execution_count": 76,
     "metadata": {},
     "output_type": "execute_result"
    }
   ],
   "source": [
    "56*15"
   ]
  },
  {
   "cell_type": "code",
   "execution_count": 77,
   "id": "0009f8fe",
   "metadata": {},
   "outputs": [],
   "source": [
    "def f(n):\n",
    "    for x in range(n):\n",
    "        yield x**3"
   ]
  },
  {
   "cell_type": "code",
   "execution_count": 78,
   "id": "d61e1ca9",
   "metadata": {},
   "outputs": [],
   "source": [
    "res = [i for i in f(5)]"
   ]
  },
  {
   "cell_type": "code",
   "execution_count": 79,
   "id": "ea05c973",
   "metadata": {},
   "outputs": [
    {
     "data": {
      "text/plain": [
       "[0, 1, 8, 27, 64]"
      ]
     },
     "execution_count": 79,
     "metadata": {},
     "output_type": "execute_result"
    }
   ],
   "source": [
    "res"
   ]
  },
  {
   "cell_type": "code",
   "execution_count": 80,
   "id": "d38e4d4d",
   "metadata": {},
   "outputs": [],
   "source": [
    "my = [number for number in range(1,14) if (number%2) == 0]"
   ]
  },
  {
   "cell_type": "code",
   "execution_count": 81,
   "id": "8a76e4de",
   "metadata": {},
   "outputs": [
    {
     "data": {
      "text/plain": [
       "[2, 4, 6, 8, 10, 12]"
      ]
     },
     "execution_count": 81,
     "metadata": {},
     "output_type": "execute_result"
    }
   ],
   "source": [
    "my"
   ]
  },
  {
   "cell_type": "code",
   "execution_count": 82,
   "id": "7fcff966",
   "metadata": {},
   "outputs": [
    {
     "name": "stdout",
     "output_type": "stream",
     "text": [
      "{'a': 1, 'b': 2, 'c': 3}\n"
     ]
    }
   ],
   "source": [
    "# Python3 program to Convert a\n",
    "# list to dictionary\n",
    "\n",
    "def Convert(lst):\n",
    "    res_dct = {lst[i]: lst[i + 1] for i in range(0, len(lst), 2)}\n",
    "    return res_dct\n",
    "\n",
    "# Driver code\n",
    "lst = ['a', 1, 'b', 2, 'c', 3]\n",
    "print(Convert(lst))\n"
   ]
  },
  {
   "cell_type": "markdown",
   "id": "9c31edb0",
   "metadata": {},
   "source": [
    "# Palindrome pyramid"
   ]
  },
  {
   "cell_type": "code",
   "execution_count": 83,
   "id": "d64836b5",
   "metadata": {},
   "outputs": [],
   "source": [
    "def pal_py(n):\n",
    "    for i in range(1,n+1):\n",
    "        print((((10**i)-1)//9)**2)"
   ]
  },
  {
   "cell_type": "code",
   "execution_count": 93,
   "id": "575c903c",
   "metadata": {},
   "outputs": [
    {
     "data": {
      "text/plain": [
       "121"
      ]
     },
     "execution_count": 93,
     "metadata": {},
     "output_type": "execute_result"
    }
   ],
   "source": [
    "(((10**2)-1)//9)**2"
   ]
  },
  {
   "cell_type": "code",
   "execution_count": 95,
   "id": "7bc92581",
   "metadata": {},
   "outputs": [
    {
     "data": {
      "text/plain": [
       "111"
      ]
     },
     "execution_count": 95,
     "metadata": {},
     "output_type": "execute_result"
    }
   ],
   "source": [
    "999//9"
   ]
  },
  {
   "cell_type": "code",
   "execution_count": 84,
   "id": "59f8a1d1",
   "metadata": {},
   "outputs": [
    {
     "name": "stdout",
     "output_type": "stream",
     "text": [
      "1\n",
      "121\n",
      "12321\n",
      "1234321\n",
      "123454321\n",
      "12345654321\n",
      "1234567654321\n",
      "123456787654321\n"
     ]
    }
   ],
   "source": [
    "pal_py(8)"
   ]
  },
  {
   "cell_type": "code",
   "execution_count": 85,
   "id": "6067d781",
   "metadata": {},
   "outputs": [],
   "source": [
    "def pal_py2(n):\n",
    "    for i in range(1,n+1):\n",
    "        print(int('1' * i)**2)"
   ]
  },
  {
   "cell_type": "code",
   "execution_count": 86,
   "id": "67d5a1ff",
   "metadata": {},
   "outputs": [
    {
     "name": "stdout",
     "output_type": "stream",
     "text": [
      "1\n",
      "121\n",
      "12321\n",
      "1234321\n",
      "123454321\n",
      "12345654321\n",
      "1234567654321\n",
      "123456787654321\n"
     ]
    }
   ],
   "source": [
    "pal_py2(8)"
   ]
  },
  {
   "cell_type": "code",
   "execution_count": null,
   "id": "e9318daf",
   "metadata": {},
   "outputs": [],
   "source": []
  },
  {
   "cell_type": "markdown",
   "id": "f024d7eb",
   "metadata": {},
   "source": [
    "### Python OpenCV: Convert Image BGR and RGB Using cv2.cvtColor()"
   ]
  },
  {
   "cell_type": "code",
   "execution_count": 87,
   "id": "98401e8d",
   "metadata": {},
   "outputs": [],
   "source": [
    "import cv2\n",
    "import numpy as np\n",
    "from PIL import Image\n",
    "im_cv = cv2.imread('F:/Tutorials(Learning)/PGA 23/images/Train7.PNG')"
   ]
  },
  {
   "cell_type": "code",
   "execution_count": 88,
   "id": "4cb639c0",
   "metadata": {},
   "outputs": [
    {
     "data": {
      "text/plain": [
       "27"
      ]
     },
     "execution_count": 88,
     "metadata": {},
     "output_type": "execute_result"
    }
   ],
   "source": [
    "cv2.imshow('Pic', im_cv)\n",
    "cv2.waitKey(0)"
   ]
  },
  {
   "cell_type": "markdown",
   "id": "e21b4e04",
   "metadata": {},
   "source": [
    "### Converting color image to grayscale"
   ]
  },
  {
   "cell_type": "code",
   "execution_count": 89,
   "id": "01f4bde8",
   "metadata": {},
   "outputs": [],
   "source": [
    "# import opencv\n",
    "import cv2\n",
    "\n",
    "# Load the input image\n",
    "image = cv2.imread('F:/Tutorials(Learning)/PGA 23/images/Train7.PNG')\n",
    "cv2.imshow('Original', image)\n",
    "cv2.waitKey(0)\n",
    "\n",
    "# Use the cvtColor() function to grayscale the image\n",
    "gray_image = cv2.cvtColor(image, cv2.COLOR_BGR2GRAY)\n",
    "\n",
    "cv2.imshow('Grayscale', gray_image)\n",
    "cv2.waitKey(0)\n",
    "\n",
    "# Window shown waits for any key pressing event\n",
    "cv2.destroyAllWindows()\n"
   ]
  },
  {
   "cell_type": "code",
   "execution_count": 90,
   "id": "50a335e0",
   "metadata": {},
   "outputs": [
    {
     "data": {
      "text/plain": [
       "(419, 541)"
      ]
     },
     "execution_count": 90,
     "metadata": {},
     "output_type": "execute_result"
    }
   ],
   "source": [
    "gray_image.shape"
   ]
  },
  {
   "cell_type": "code",
   "execution_count": 91,
   "id": "e9e8a2ac",
   "metadata": {},
   "outputs": [
    {
     "name": "stdout",
     "output_type": "stream",
     "text": [
      "array : \n",
      " [[0 1 2 3 4]\n",
      " [5 6 7 8 9]]\n",
      "\n",
      "array : \n",
      " [[0 6 2 3 4]\n",
      " [5 6 7 8 9]]\n",
      "\n",
      "array :  9\n",
      "\n",
      "MAX ELEMENT INDICES :  9\n"
     ]
    }
   ],
   "source": [
    "# Python Program illustrating\n",
    "# working of argmax()\n",
    "\n",
    "import numpy as geek\n",
    "\n",
    "# Working on 2D array\n",
    "array = geek.arange(10).reshape(2, 5)\n",
    "print(\"array : \\n\", array)\n",
    "\n",
    "array[0][1] = 6\n",
    "print(\"\\narray : \\n\", array)\n",
    "\t\n",
    "# Returns max element\n",
    "print(\"\\narray : \", geek.argmax(array))\n",
    "\n",
    "# First occurrence of an max element is given\n",
    "print(\"\\nMAX ELEMENT INDICES : \", geek.argmax(array))\n"
   ]
  },
  {
   "cell_type": "code",
   "execution_count": 92,
   "id": "ac5c945f",
   "metadata": {},
   "outputs": [
    {
     "data": {
      "text/plain": [
       "array([0, 1, 2, 3, 4, 5, 6, 7, 8, 9])"
      ]
     },
     "execution_count": 92,
     "metadata": {},
     "output_type": "execute_result"
    }
   ],
   "source": [
    "geek.arange(10)"
   ]
  },
  {
   "cell_type": "code",
   "execution_count": 93,
   "id": "f875208d",
   "metadata": {},
   "outputs": [
    {
     "data": {
      "text/plain": [
       "{1, 2, 3, 4, 6, 7, 23}"
      ]
     },
     "execution_count": 93,
     "metadata": {},
     "output_type": "execute_result"
    }
   ],
   "source": [
    "mylist = [1,1,2,2,4,6,3,23,7,2,3,3,4]\n",
    "set(mylist)"
   ]
  },
  {
   "cell_type": "code",
   "execution_count": 94,
   "id": "ed1ca5c5",
   "metadata": {},
   "outputs": [
    {
     "name": "stdout",
     "output_type": "stream",
     "text": [
      "['ab', 'ef', 'gh', '']\n"
     ]
    }
   ],
   "source": [
    "print('abcdefcdghcd'.split('cd'))"
   ]
  },
  {
   "cell_type": "code",
   "execution_count": 95,
   "id": "f7779ab4",
   "metadata": {},
   "outputs": [],
   "source": [
    "def gen():\n",
    "    n=1\n",
    "    yield n\n",
    "    \n",
    "    n += 1\n",
    "    yield n\n",
    "    \n",
    "    n -= 1\n",
    "    yield n\n",
    "    "
   ]
  },
  {
   "cell_type": "code",
   "execution_count": 96,
   "id": "597d884c",
   "metadata": {},
   "outputs": [
    {
     "name": "stdout",
     "output_type": "stream",
     "text": [
      "1\n",
      "2\n",
      "1\n"
     ]
    }
   ],
   "source": [
    "for item in gen():\n",
    "    print(item)"
   ]
  },
  {
   "cell_type": "code",
   "execution_count": 97,
   "id": "100c39a4",
   "metadata": {},
   "outputs": [
    {
     "data": {
      "text/plain": [
       "6"
      ]
     },
     "execution_count": 97,
     "metadata": {},
     "output_type": "execute_result"
    }
   ],
   "source": [
    "sum([item for item in gen()])"
   ]
  },
  {
   "cell_type": "code",
   "execution_count": 98,
   "id": "a6185b4e",
   "metadata": {},
   "outputs": [
    {
     "name": "stdout",
     "output_type": "stream",
     "text": [
      "9\n"
     ]
    }
   ],
   "source": [
    "counter = 0\n",
    "sum = 0\n",
    "while  counter <= 6:\n",
    "    sum = sum + counter\n",
    "    counter = counter + 3\n",
    "print(sum)"
   ]
  },
  {
   "cell_type": "code",
   "execution_count": 99,
   "id": "cb31f1dc",
   "metadata": {},
   "outputs": [
    {
     "data": {
      "text/plain": [
       "0"
      ]
     },
     "execution_count": 99,
     "metadata": {},
     "output_type": "execute_result"
    }
   ],
   "source": [
    "4%2"
   ]
  },
  {
   "cell_type": "code",
   "execution_count": 100,
   "id": "d47a5446",
   "metadata": {},
   "outputs": [
    {
     "name": "stdout",
     "output_type": "stream",
     "text": [
      "The repeating elements are : \n",
      "2  \n",
      "3  \n",
      "4  \n",
      "8  \n"
     ]
    }
   ],
   "source": [
    "numRay = [0, 4, 3, 2, 7, 8, 2, 3, 1,4, 4, 8,8]\n",
    "arr_size = len(numRay)\n",
    "for i in range(arr_size):\n",
    " \n",
    "    x = numRay[i] % arr_size\n",
    "    numRay[x] = numRay[x] + arr_size\n",
    " \n",
    "print(\"The repeating elements are : \")\n",
    "\n",
    "for i in range(arr_size):\n",
    "    if (numRay[i] >= arr_size*2):\n",
    "        print(i, \" \")"
   ]
  },
  {
   "cell_type": "code",
   "execution_count": 101,
   "id": "81748486",
   "metadata": {},
   "outputs": [],
   "source": [
    "arr_size = len(numRay)\n",
    "for i in range(arr_size):\n",
    " \n",
    "    x = numRay[i] % arr_size"
   ]
  },
  {
   "cell_type": "code",
   "execution_count": 102,
   "id": "b11421db",
   "metadata": {},
   "outputs": [
    {
     "data": {
      "text/plain": [
       "13"
      ]
     },
     "execution_count": 102,
     "metadata": {},
     "output_type": "execute_result"
    }
   ],
   "source": [
    "arr_size"
   ]
  },
  {
   "cell_type": "code",
   "execution_count": 103,
   "id": "a106b1d9",
   "metadata": {},
   "outputs": [
    {
     "data": {
      "text/plain": [
       "0"
      ]
     },
     "execution_count": 103,
     "metadata": {},
     "output_type": "execute_result"
    }
   ],
   "source": [
    "numRay[0] % arr_size"
   ]
  },
  {
   "cell_type": "code",
   "execution_count": 104,
   "id": "40f31aab",
   "metadata": {},
   "outputs": [
    {
     "name": "stdout",
     "output_type": "stream",
     "text": [
      "2 3 4 5 "
     ]
    }
   ],
   "source": [
    "l=[1,2,3,4,5,2,3,4,7,9,5]\n",
    "l1=[]\n",
    "for i in l:\n",
    "    if i not in l1:\n",
    "        l1.append(i)\n",
    "    else:\n",
    "        print(i,end=' ')"
   ]
  },
  {
   "cell_type": "markdown",
   "id": "96815920",
   "metadata": {},
   "source": [
    "## Check if number is Palindrome ↓"
   ]
  },
  {
   "cell_type": "code",
   "execution_count": 89,
   "id": "c3be4f94",
   "metadata": {},
   "outputs": [
    {
     "name": "stdout",
     "output_type": "stream",
     "text": [
      "Enter number:5228\n",
      "False\n"
     ]
    }
   ],
   "source": [
    "n=int(input(\"Enter number:\"))\n",
    "temp=n\n",
    "rev=0\n",
    "while(n>0):\n",
    "    dig=n%10\n",
    "    rev=rev*10+dig\n",
    "    n=n//10\n",
    "if(temp==rev):\n",
    "    print(bool(temp==rev))\n",
    "else:\n",
    "    print(bool(temp==rev))"
   ]
  },
  {
   "cell_type": "code",
   "execution_count": 103,
   "id": "7ce1a36f",
   "metadata": {},
   "outputs": [
    {
     "name": "stdout",
     "output_type": "stream",
     "text": [
      "Enter number:32\n",
      "False\n"
     ]
    }
   ],
   "source": [
    "x=int(input(\"Enter number:\"))\n",
    "if x > 0:\n",
    "    print(bool(x == int(str(x)[::-1])))\n",
    "else :\n",
    "    print(bool(x == int(str(x)[::-1])) )\n",
    "    "
   ]
  },
  {
   "cell_type": "code",
   "execution_count": 105,
   "id": "ab2bb98d",
   "metadata": {},
   "outputs": [
    {
     "name": "stdout",
     "output_type": "stream",
     "text": [
      "151 is Palindrome\n",
      "127 is not Palindrome\n"
     ]
    }
   ],
   "source": [
    "# Define a class for Checking Palindrome number\n",
    "class Check :\n",
    "\n",
    "    # Constructor\n",
    "    def __init__(self,number) :\n",
    "        self.num = number\n",
    "        \n",
    "    # define a method for checking number is Palindrome or not \n",
    "    def isPalindrome(self) :\n",
    "\n",
    "        # copy num attribute to the temp local variable\n",
    "        temp = self.num\n",
    "\n",
    "        # initialise local variable result to zero\n",
    "        result = 0\n",
    "\n",
    "        # run the loop untill temp is not equal to zero\n",
    "        while(temp != 0) :\n",
    "            \n",
    "            rem = temp % 10\n",
    "\n",
    "            result =  result * 10 + rem\n",
    "\n",
    "            # integer division\n",
    "            temp //= 10\n",
    "\n",
    "        # check result equal to the num attribute or not\n",
    "        if self.num == result :\n",
    "            print(self.num,\"is Palindrome\")\n",
    "        else :\n",
    "            print(self.num,\"is not Palindrome\")\n",
    "\n",
    "\n",
    "# Main code \n",
    "if __name__ == \"__main__\" :\n",
    "    \n",
    "    # input number\n",
    "    num = 151\n",
    "    \n",
    "    # make an object of Check class\n",
    "    check_Palindrome = Check(num)\n",
    "    \n",
    "    # check_Palindrome object's method call\n",
    "    check_Palindrome.isPalindrome()\n",
    "    \n",
    "    num = 127\n",
    "    check_Palindrome = Check(num)\n",
    "    check_Palindrome.isPalindrome()\n"
   ]
  },
  {
   "cell_type": "markdown",
   "id": "d820356c",
   "metadata": {},
   "source": [
    "## Basic list Programs "
   ]
  },
  {
   "cell_type": "markdown",
   "id": "8832f67c",
   "metadata": {},
   "source": [
    "### Sort list in asc or desc order"
   ]
  },
  {
   "cell_type": "code",
   "execution_count": 18,
   "id": "4e9fb127",
   "metadata": {},
   "outputs": [
    {
     "name": "stdout",
     "output_type": "stream",
     "text": [
      "[1, 1, 2, 2, 4, 8, 9, 10, 34, 37]\n"
     ]
    }
   ],
   "source": [
    "'''Write a program that sort a list in ascending order '''\n",
    "\n",
    "n = [9,2,8,1,10,34,1,4,37,2]\n",
    "def sort(n):\n",
    "    for i in range(0, len(n)):\n",
    "        for j in range(i+1, len(n)):\n",
    "            if n[i] > n[j]:\n",
    "                temp = n[i]\n",
    "                n[i] = n[j]\n",
    "                n[j] = temp\n",
    "    print(n)\n",
    "\n",
    "#Driver Code\n",
    "sort(n) "
   ]
  },
  {
   "cell_type": "code",
   "execution_count": 17,
   "id": "891464d9",
   "metadata": {},
   "outputs": [
    {
     "name": "stdout",
     "output_type": "stream",
     "text": [
      "[37, 34, 10, 9, 8, 4, 2, 2, 1, 1]\n"
     ]
    }
   ],
   "source": [
    "'''Write a program that sort a list in descending order '''\n",
    "\n",
    "n = [9,2,8,1,10,34,1,4,37,2]\n",
    "def sort(n):\n",
    "    for i in range(0, len(n)):\n",
    "        for j in range(i+1, len(n)):\n",
    "            if n[i] < n[j]:\n",
    "                temp = n[i]\n",
    "                n[i] = n[j]\n",
    "                n[j] = temp\n",
    "    print(n)\n",
    "\n",
    "#Driver Code\n",
    "sort(n) "
   ]
  },
  {
   "cell_type": "code",
   "execution_count": 10,
   "id": "1fa94d39",
   "metadata": {},
   "outputs": [
    {
     "name": "stdout",
     "output_type": "stream",
     "text": [
      "Final array after sorting :\n",
      "\n",
      "2\n",
      "3\n",
      "9\n",
      "12\n",
      "45\n",
      "67\n"
     ]
    }
   ],
   "source": [
    "'''Sort list in Asc order '''\n",
    "\n",
    "def selection_sort(A):\n",
    "    for i in range(len(A)): \n",
    "    # Finding the minimum element in remaining unsorted array \n",
    "        min_idx = i \n",
    "        for j in range(i+1, len(A)): \n",
    "            if A[min_idx] > A[j]: \n",
    "                min_idx = j \n",
    "                  \n",
    "        # Swapping A[i] with minimum element         \n",
    "        A[i], A[min_idx] = A[min_idx], A[i] \n",
    "\n",
    "#Driver Code\n",
    "arr = [12,45,67,2,3,9]\n",
    "selection_sort(arr)   #Calling Function\n",
    "\n",
    "print(\"Final array after sorting :\\n\")\n",
    "for i in range(len(arr)):\n",
    "    print(arr[i])    #Printing array after sorting\n"
   ]
  },
  {
   "cell_type": "code",
   "execution_count": 16,
   "id": "3eeccff5",
   "metadata": {},
   "outputs": [
    {
     "name": "stdout",
     "output_type": "stream",
     "text": [
      "6\n"
     ]
    }
   ],
   "source": [
    "'''Write a Python program to find the index of an item in a specified list.'''\n",
    "\n",
    "nums = [10,20,30,40,50,60,70,80,90]\n",
    "index = 0\n",
    "def ind(n):\n",
    "    for i in range(0, len(nums)):\n",
    "        if nums[i] == n: \n",
    "            index = i\n",
    "    print(index)\n",
    "    \n",
    "# Driver code:\n",
    "\n",
    "ind(70)"
   ]
  },
  {
   "cell_type": "code",
   "execution_count": 1,
   "id": "e1feae24",
   "metadata": {},
   "outputs": [
    {
     "name": "stdout",
     "output_type": "stream",
     "text": [
      "[1, 0, 3, 2, 5, 4]\n"
     ]
    }
   ],
   "source": [
    "'''Write a Python program to change the position of every n-th value with the\n",
    "    (n+1)th in a list.'''\n",
    "\n",
    "list_num = [0,1,2,3,4,5]\n",
    "\n",
    "def ch(lst):\n",
    "    for i in range(0, len(lst)):\n",
    "        if i%2==0:\n",
    "            temp=lst[i]\n",
    "            lst[i] = lst[i+1]\n",
    "            lst[i+1] = temp\n",
    "    print(lst)\n",
    "    \n",
    "# Driver code:\n",
    "\n",
    "ch(list_num)"
   ]
  },
  {
   "cell_type": "code",
   "execution_count": 4,
   "id": "7673de89",
   "metadata": {},
   "outputs": [
    {
     "data": {
      "text/plain": [
       "0"
      ]
     },
     "execution_count": 4,
     "metadata": {},
     "output_type": "execute_result"
    }
   ],
   "source": [
    "2%2"
   ]
  },
  {
   "cell_type": "code",
   "execution_count": 22,
   "id": "39a58407",
   "metadata": {},
   "outputs": [
    {
     "name": "stdout",
     "output_type": "stream",
     "text": [
      "[1, 0, 3, 2, 5, 4]\n"
     ]
    }
   ],
   "source": [
    "'''Write a Python program to change the position of every n-th value with the\n",
    "    (n+1)th in a list.'''\n",
    "\n",
    "list_num = [0,1,2,3,4,5]\n",
    "\n",
    "def ch(lst):\n",
    "    for i in range(0, len(lst)):\n",
    "        if i%2==0:\n",
    "            lst[i], lst[i+1] = lst[i+1], lst[i]\n",
    "            #temp=lst[i]\n",
    "            #lst[i] = lst[i+1]\n",
    "            #lst[i+1] = temp\n",
    "    print(lst)\n",
    "    \n",
    "# Driver code:\n",
    "\n",
    "ch(list_num)"
   ]
  },
  {
   "cell_type": "code",
   "execution_count": 25,
   "id": "0f82069b",
   "metadata": {},
   "outputs": [
    {
     "data": {
      "text/plain": [
       "True"
      ]
     },
     "execution_count": 25,
     "metadata": {},
     "output_type": "execute_result"
    }
   ],
   "source": [
    "'''Write a Python function that takes two lists and returns True if they have\n",
    "       at least one common member.'''\n",
    "\n",
    "def check_common_member(list_1, list_2):\n",
    "    common = False\n",
    "    for i in list_1:\n",
    "        if i in list_2:\n",
    "            common = True\n",
    "            break\n",
    "    return common\n",
    "\n",
    "# Driver code\n",
    "\n",
    "lst1 = [1,2,3,4,5]\n",
    "lst2 = [5,6,7,8,9]\n",
    "\n",
    "check_common_member(lst1,lst2)\n",
    "    "
   ]
  },
  {
   "cell_type": "code",
   "execution_count": 36,
   "id": "37f477bc",
   "metadata": {},
   "outputs": [
    {
     "name": "stdout",
     "output_type": "stream",
     "text": [
      "[1, 2, 3, 6, 7, 6, 8, 9]\n"
     ]
    }
   ],
   "source": [
    "'''Write a Python function that takes two lists and returns list of all elements other than \n",
    "                common in both lists.'''\n",
    "\n",
    "def check_common_member(list_1, list_2):\n",
    "    #common = False\n",
    "    lst3 = []\n",
    "    \n",
    "    for i in list_1:\n",
    "        if i not in list_2:\n",
    "            lst3.append(i)\n",
    "            \n",
    "    for i in list_2:\n",
    "        if i not in list_1:\n",
    "            lst3.append(i)\n",
    "    \n",
    "    \n",
    "    print(lst3)\n",
    "\n",
    "# Driver code\n",
    "\n",
    "lst1 = [1,2,3,4,5]\n",
    "lst2 = [5,6,7,6,4,8,9]\n",
    "\n",
    "check_common_member(lst1,lst2)"
   ]
  },
  {
   "cell_type": "code",
   "execution_count": 44,
   "id": "a3c947b0",
   "metadata": {},
   "outputs": [
    {
     "name": "stdout",
     "output_type": "stream",
     "text": [
      "List is not empty\n",
      "List is empty\n"
     ]
    }
   ],
   "source": [
    "'''Write a Python program to check a list is empty or not.'''\n",
    "\n",
    "def list_null_check(lst):\n",
    "    if len(lst) == 0:\n",
    "        print('List is empty')\n",
    "    elif len(lst) > 0:\n",
    "        print('List is not empty')\n",
    "        \n",
    "        \n",
    "# Driver code\n",
    "\n",
    "n1 = [1,2,3,4,5,2,6,7,2]\n",
    "n2 = []\n",
    "\n",
    "list_null_check(n1)\n",
    "list_null_check(n2)"
   ]
  },
  {
   "cell_type": "code",
   "execution_count": 47,
   "id": "04a7a134",
   "metadata": {},
   "outputs": [
    {
     "name": "stdout",
     "output_type": "stream",
     "text": [
      "List is not empty\n",
      "List is empty\n"
     ]
    }
   ],
   "source": [
    "'''Write a Python program to check a list is empty or not.'''\n",
    "\n",
    "def list_null_check(lst): \n",
    "    if lst:\n",
    "        print('List is not empty')\n",
    "    else:\n",
    "        print('List is empty')\n",
    "        \n",
    "        \n",
    "# Driver code\n",
    "\n",
    "n1 = [1,2,3,4,5,2,6,7,2]\n",
    "n2 = []\n",
    "\n",
    "list_null_check(n1)\n",
    "list_null_check(n2)"
   ]
  },
  {
   "cell_type": "code",
   "execution_count": 79,
   "id": "6eb10ac0",
   "metadata": {},
   "outputs": [
    {
     "name": "stdout",
     "output_type": "stream",
     "text": [
      "Enter an string: 5656556565\n",
      "Palindrome\n"
     ]
    }
   ],
   "source": [
    "'''Write a Python function to check whether a string is a palindrome or not.'''\n",
    "string = input(\"Enter an string: \")\n",
    "reverse = ''\n",
    "for i in range(len(string)-1, -1, -1):\n",
    "    reverse+= string[i]\n",
    "if string == reverse:\n",
    "    print(\"Palindrome\")\n",
    "else:\n",
    "    print(\"not a palindrome\")"
   ]
  },
  {
   "cell_type": "code",
   "execution_count": 83,
   "id": "e9f747a0",
   "metadata": {},
   "outputs": [
    {
     "name": "stdout",
     "output_type": "stream",
     "text": [
      "The original string is:  123272hjdsbf\n",
      "The reverse string is fbsdjh272321\n"
     ]
    }
   ],
   "source": [
    "'''Write a Python function to reverse string'''\n",
    "\n",
    "def reverse_string(str):  \n",
    "    str1 = \"\"   # Declaring empty string to store the reversed string  \n",
    "    for i in str:  \n",
    "        str1 = i + str1  \n",
    "    return str1    # It will return the reverse string to the caller function  \n",
    "\n",
    "# Driver code\n",
    "     \n",
    "str = \"123272hjdsbf\"    # Given String       \n",
    "print(\"The original string is: \",str)  \n",
    "print(\"The reverse string is\",reverse_string(str)) # Function call  "
   ]
  },
  {
   "cell_type": "code",
   "execution_count": 1,
   "id": "6b51ffe2",
   "metadata": {},
   "outputs": [
    {
     "name": "stdout",
     "output_type": "stream",
     "text": [
      "It's Pangram\n"
     ]
    }
   ],
   "source": [
    "'''Write a Python function to check whether a string is a pangram or not.'''\n",
    "\n",
    "def pangram(sent):\n",
    "    alphabets = list(\"abcdefghigklmnopqrstuvwxyz\")\n",
    "    letters = set(sent)\n",
    "    result = True\n",
    "    for i in alphabets:\n",
    "        if i not in letters:\n",
    "            result = False\n",
    "            break\n",
    "    if result:\n",
    "        print(\"It's Pangram\")\n",
    "    else:\n",
    "        print(\"Not a Pangram\")\n",
    "    \n",
    "# Driver code:\n",
    "sent1 = \"the quick brown fox jumps over the lazy dog\"\n",
    "sent2 = \"the quick brown fox jumps over brdge\"\n",
    "pangram(sent1)"
   ]
  },
  {
   "cell_type": "code",
   "execution_count": 2,
   "id": "0f4a55b4",
   "metadata": {},
   "outputs": [
    {
     "name": "stdout",
     "output_type": "stream",
     "text": [
      "Today's date is 2022-07-29\n"
     ]
    }
   ],
   "source": [
    "# Python program to\n",
    "# print current date\n",
    "\n",
    "from datetime import date\n",
    "\n",
    "# calling the today\n",
    "# function of date class\n",
    "today = date.today()\n",
    "\n",
    "print(\"Today's date is\", today)\n"
   ]
  },
  {
   "cell_type": "code",
   "execution_count": 3,
   "id": "43145391",
   "metadata": {},
   "outputs": [
    {
     "name": "stdout",
     "output_type": "stream",
     "text": [
      "year: 2022\n",
      "month: July\n",
      "day: 29\n",
      "time: 11:27:35\n",
      "date and time: 07/29/2022, 11:27:35\n"
     ]
    }
   ],
   "source": [
    "\n",
    "from datetime import datetime\n",
    "\n",
    "now = datetime.now() # current date and time\n",
    "\n",
    "year = now.strftime(\"%Y\")\n",
    "print(\"year:\", year)\n",
    "\n",
    "month = now.strftime(\"%B\")\n",
    "print(\"month:\", month)\n",
    "\n",
    "day = now.strftime(\"%d\")\n",
    "print(\"day:\", day)\n",
    "\n",
    "time = now.strftime(\"%H:%M:%S\")\n",
    "print(\"time:\", time)\n",
    "\n",
    "date_time = now.strftime(\"%m/%d/%Y, %H:%M:%S\")\n",
    "print(\"date and time:\",date_time)"
   ]
  },
  {
   "cell_type": "markdown",
   "id": "a3ffb012",
   "metadata": {},
   "source": [
    "### Digitwin AI⬇️"
   ]
  },
  {
   "cell_type": "code",
   "execution_count": 10,
   "id": "67ee2361",
   "metadata": {},
   "outputs": [
    {
     "name": "stdout",
     "output_type": "stream",
     "text": [
      "{'US': ['San Francisco', 'Los Angeles'], 'UK': ['London', 'Manchester'], 'France': ['Paris'], 'Korea': ['Seoul']}\n"
     ]
    }
   ],
   "source": [
    "\"\"\"Use single key for country and its multiple cities in it using dictionary\"\"\"\n",
    "\"\"\"METHOD 1\"\"\"\n",
    "\n",
    "cities = {'San Francisco': 'US', 'London': 'UK',\n",
    "          'Manchester': 'UK', 'Paris': 'France',\n",
    "          'Los Angeles': 'US', 'Seoul': 'Korea'}\n",
    "\n",
    "a = {}\n",
    "\n",
    "for key,value in cities.items():\n",
    "    if value not in a:\n",
    "        a[value] = [key]\n",
    "    else:\n",
    "        a[value].append(key)\n",
    "\n",
    "print(a)"
   ]
  },
  {
   "cell_type": "code",
   "execution_count": 12,
   "id": "110930ec",
   "metadata": {},
   "outputs": [
    {
     "name": "stdout",
     "output_type": "stream",
     "text": [
      "{'US': ['San Francisco', 'Los Angeles'], 'UK': ['London', 'Manchester'], 'France': ['Paris'], 'Korea': ['Seoul']}\n"
     ]
    }
   ],
   "source": [
    "\"\"\"Use single key for country and its multiple cities in it using dictionary\"\"\"\n",
    "\"\"\"METHOD 1\"\"\"\n",
    "\n",
    "cities = {'San Francisco': 'US', 'London': 'UK',\n",
    "          'Manchester': 'UK', 'Paris': 'France',\n",
    "          'Los Angeles': 'US', 'Seoul': 'Korea'}\n",
    "\n",
    "a = {}\n",
    "\n",
    "for key,value in cities.items():\n",
    "    a.setdefault(value,[]).append(key)\n",
    "\n",
    "print(a)"
   ]
  },
  {
   "cell_type": "code",
   "execution_count": 32,
   "id": "ffd75aa7",
   "metadata": {},
   "outputs": [
    {
     "name": "stdout",
     "output_type": "stream",
     "text": [
      "{'c': 2, 'o': 1, 'n': 2, 'v': 1, 'e': 3, 'r': 1, 'g': 1}\n",
      "\n",
      "\n",
      "{1: 1, 2: 3, 3: 2, 4: 1, 5: 3, 6: 2, 7: 1, 8: 1, 9: 1, 10: 1}\n"
     ]
    }
   ],
   "source": [
    "\"\"\"Count occurrences using dictionary\"\"\"\n",
    "\"\"\"METHOD 1\"\"\"\n",
    "def count(s):\n",
    "    cnt = {}\n",
    "    for i in s:\n",
    "        if i in cnt:\n",
    "            cnt[i] = cnt[i] + 1\n",
    "        else:\n",
    "            cnt[i] = 1\n",
    "    print(cnt)\n",
    "    #print({k: v for k, v in sorted(cnt.items(), key=lambda item: item[1])})\n",
    "    \n",
    "# Driver code :\n",
    "count('convergence')\n",
    "print('\\n')\n",
    "l = [1,2,3,4,2,5,6,3,7,8,2,5,9,6,5,10]\n",
    "count(l)"
   ]
  },
  {
   "cell_type": "code",
   "execution_count": 13,
   "id": "36301f50",
   "metadata": {},
   "outputs": [
    {
     "name": "stdout",
     "output_type": "stream",
     "text": [
      "{'r': 1, 'n': 2, 'g': 1, 'v': 1, 'o': 1, 'e': 3, 'c': 2}\n"
     ]
    }
   ],
   "source": [
    "'''Count occurrences using dictionary'''\n",
    "\"\"\"METHOD 2\"\"\"\n",
    "\n",
    "hashmap = {}\n",
    "def count(s):\n",
    "    count = {}\n",
    "    for i in set(s):\n",
    "        hashmap[i] = s.count(i)\n",
    "    return hashmap\n",
    "    \n",
    "# Driver code :\n",
    "print(count('convergence'))\n",
    "#print('\\n')\n",
    "#l = [1,2,3,4,2,5,6,3,7,8,2,5,9,6,5]\n",
    "#count(l)"
   ]
  },
  {
   "cell_type": "code",
   "execution_count": 14,
   "id": "1a2ab9e1",
   "metadata": {},
   "outputs": [
    {
     "name": "stdout",
     "output_type": "stream",
     "text": [
      "Counter({2: 3, 5: 3, 3: 2, 6: 2, 1: 1, 4: 1, 7: 1, 8: 1})\n"
     ]
    }
   ],
   "source": [
    "'''Count occurrences using dictionary'''\n",
    "\"\"\"METHOD 3\"\"\"\n",
    "\n",
    "l = [1,2,3,4,2,5,6,3,7,8,2,5,6,5]\n",
    "from collections import Counter\n",
    "# creating counter object\n",
    "nums = Counter(l)\n",
    "print(nums)"
   ]
  },
  {
   "cell_type": "code",
   "execution_count": 45,
   "id": "920fcdce",
   "metadata": {},
   "outputs": [],
   "source": [
    "\"\"\"Given a list of integers and a integer target, returns indices of two numbers\n",
    "such that they add up to target\"\"\"\n",
    "\n",
    "def twosum(nums, target):\n",
    "    for i in range(len(nums)):\n",
    "        for j in range(i+1,len(nums)):\n",
    "            if nums[j]==target-nums[i]:\n",
    "                return [i,j]"
   ]
  },
  {
   "cell_type": "code",
   "execution_count": 46,
   "id": "cf2f3a46",
   "metadata": {},
   "outputs": [
    {
     "data": {
      "text/plain": [
       "[1, 2]"
      ]
     },
     "execution_count": 46,
     "metadata": {},
     "output_type": "execute_result"
    }
   ],
   "source": [
    "twosum([1,5,7,2],12)"
   ]
  },
  {
   "cell_type": "code",
   "execution_count": 47,
   "id": "aca1bf06",
   "metadata": {},
   "outputs": [],
   "source": [
    "def twosum2(nums, target):\n",
    "    hashmap = {}\n",
    "    for i in range(len(nums)):\n",
    "        diff=target-nums[i]\n",
    "        if diff in hashmap:\n",
    "            return [hashmap[diff],i]\n",
    "        hashmap[nums[i]]=i"
   ]
  },
  {
   "cell_type": "code",
   "execution_count": 48,
   "id": "90a5eb7e",
   "metadata": {},
   "outputs": [
    {
     "data": {
      "text/plain": [
       "[1, 2]"
      ]
     },
     "execution_count": 48,
     "metadata": {},
     "output_type": "execute_result"
    }
   ],
   "source": [
    "twosum2([1,5,7,2],12)"
   ]
  },
  {
   "cell_type": "code",
   "execution_count": 37,
   "id": "e2dd63f4",
   "metadata": {},
   "outputs": [
    {
     "name": "stdout",
     "output_type": "stream",
     "text": [
      "The second largest element is 34\n"
     ]
    }
   ],
   "source": [
    "\"\"\"Find Second largest element in an array\"\"\"\n",
    "\n",
    "# Python3 program to find second\n",
    "# largest element in an array\n",
    " \n",
    "# Function to print the\n",
    "# second largest elements\n",
    "def print2largest(arr):\n",
    "    # There should be\n",
    "    # atleast two elements\n",
    "    if (len(arr) < 2):  \n",
    "        print(\" Invalid Input \")\n",
    "        return\n",
    "  \n",
    "  # Sort the array\n",
    "    arr.sort\n",
    "  \n",
    "    # Start from second last\n",
    "    # element as the largest\n",
    "    # element is at last\n",
    "    for i in range(len(arr)-2,-1, -1):\n",
    "        \n",
    "        # If the element is not\n",
    "        # equal to largest element\n",
    "        if (arr[i] != arr[len(arr) - 1]):\n",
    "            print(\"The second largest element is\",arr[i])\n",
    "            return\n",
    "  \n",
    "    print(\"There is no second largest element\")\n",
    " \n",
    "\n",
    "# Driver code\n",
    "arr = [12, 35, 1, 10, 34, 1]\n",
    "print2largest(arr)"
   ]
  },
  {
   "cell_type": "code",
   "execution_count": 1,
   "id": "7f9e6d01",
   "metadata": {},
   "outputs": [
    {
     "name": "stdout",
     "output_type": "stream",
     "text": [
      "Original key list is : ['Rash', 'Kil', 'Varsha']\n",
      "Original value list is : [1, 4, 5]\n",
      "Resultant dictionary is : {'Rash': 1, 'Kil': 4, 'Varsha': 5}\n"
     ]
    }
   ],
   "source": [
    "# Python3 code to demonstrate\n",
    "# conversion of lists to dictionary\n",
    "# using naive method\n",
    "\n",
    "# initializing lists\n",
    "test_keys = [\"Rash\", \"Kil\", \"Varsha\"]\n",
    "test_values = [1, 4, 5]\n",
    "\n",
    "# Printing original keys-value lists\n",
    "print (\"Original key list is : \" + str(test_keys))\n",
    "print (\"Original value list is : \" + str(test_values))\n",
    "\n",
    "# using naive method\n",
    "# to convert lists to dictionary\n",
    "res = {}\n",
    "for key in test_keys:\n",
    "    for value in test_values:\n",
    "        res[key] = value\n",
    "        test_values.remove(value)\n",
    "        break\n",
    "\n",
    "# Printing resultant dictionary\n",
    "print (\"Resultant dictionary is : \" + str(res))\n"
   ]
  },
  {
   "cell_type": "markdown",
   "id": "28200b0e",
   "metadata": {},
   "source": [
    "### DhiOmics Interview questions ⬇️"
   ]
  },
  {
   "cell_type": "code",
   "execution_count": 57,
   "id": "0c8d7dd9",
   "metadata": {},
   "outputs": [
    {
     "name": "stdout",
     "output_type": "stream",
     "text": [
      "Largest element is: 904\n"
     ]
    }
   ],
   "source": [
    "# Python program to find largest / maximum number in given list\n",
    "# number in a list\n",
    "\n",
    "def myMax(list1):\n",
    "    \n",
    "\n",
    "# Assume first number in list is largest\n",
    "# initially and assign it to variable \"max\"\n",
    "     max = list1[0]\n",
    "# Now traverse through the list and compare\n",
    "# each number with \"max\" value. Whichever is\n",
    "# largest assign that value to \"max'.\n",
    "     for x in list1:\n",
    "        if x > max:\n",
    "            max = x\n",
    "        \n",
    "# after complete traversing the list\n",
    "# return the \"max\" value\n",
    "     return max\n",
    "     \n",
    "\n",
    "\n",
    "# Driver code\n",
    "list1 = [10, 20, 4, 45, 99,76,34,567,872,342,904]\n",
    "print(\"Largest element is:\", myMax(list1))\n"
   ]
  },
  {
   "cell_type": "code",
   "execution_count": 3,
   "id": "b5bb466c",
   "metadata": {},
   "outputs": [
    {
     "name": "stdout",
     "output_type": "stream",
     "text": [
      "[24, 35, 9, 56, 12]\n"
     ]
    }
   ],
   "source": [
    "# Python3 program to swap first\n",
    "# and last element of a list\n",
    " \n",
    "# Swap function\n",
    "def swapList(newList):\n",
    "    size = len(newList)\n",
    "     \n",
    "    # Swapping\n",
    "    temp = newList[0]\n",
    "    newList[0] = newList[size - 1]\n",
    "    newList[size - 1] = temp\n",
    "     \n",
    "    return newList\n",
    "     \n",
    "# Driver code\n",
    "newList = [12, 35, 9, 56, 24]\n",
    " \n",
    "print(swapList(newList))"
   ]
  },
  {
   "cell_type": "code",
   "execution_count": 33,
   "id": "5b76aa64",
   "metadata": {},
   "outputs": [
    {
     "name": "stdout",
     "output_type": "stream",
     "text": [
      "[24, 35, 9, 56, 12]\n"
     ]
    }
   ],
   "source": [
    "# Python3 program to swap first\n",
    "# and last element of a list\n",
    " \n",
    "# Swap function\n",
    "def swapList(newList):\n",
    "    #newList.sort(reverse=True)\n",
    "    newList[0], newList[-1] = newList[-1], newList[0]\n",
    " \n",
    "    return newList\n",
    "     \n",
    "# Driver code\n",
    "newList = [12, 35, 9, 56, 24]\n",
    "print(swapList(newList))"
   ]
  },
  {
   "cell_type": "code",
   "execution_count": 83,
   "id": "41b448d3",
   "metadata": {},
   "outputs": [],
   "source": [
    "\"\"\"Check given number is perfect number or not\"\"\"\n",
    "\n",
    "\n",
    "def perfect_check(n):\n",
    "    sum = 0\n",
    "    for i in range(1,n):\n",
    "        if(n % i == 0):\n",
    "            sum=sum+i\n",
    "    if(sum==n):\n",
    "        print(\"The number is perfect number!\")\n",
    "    else:\n",
    "        print(\"The number is not perfect number!\")"
   ]
  },
  {
   "cell_type": "code",
   "execution_count": 85,
   "id": "8efab2dc",
   "metadata": {},
   "outputs": [
    {
     "name": "stdout",
     "output_type": "stream",
     "text": [
      "The number is perfect number!\n"
     ]
    }
   ],
   "source": [
    "perfect_check(28)"
   ]
  },
  {
   "cell_type": "code",
   "execution_count": 68,
   "id": "c9fbe74e",
   "metadata": {},
   "outputs": [],
   "source": [
    "\"\"\"Print perfect numbers within given range\"\"\"\n",
    "\n",
    "def perfect_number(n):\n",
    "    if n<1:\n",
    "        return False\n",
    "    \n",
    "    perfect_sum=0\n",
    "    for i in range(1,n):\n",
    "        if n%i==0:\n",
    "            perfect_sum = perfect_sum+i\n",
    "    return perfect_sum==n\n",
    "\n",
    "#min=1\n",
    "#max=10000\n",
    "def perfect_range(min,max):\n",
    "    for i in range(min,max+1):\n",
    "        if perfect_number(i):\n",
    "            print(i)"
   ]
  },
  {
   "cell_type": "code",
   "execution_count": 74,
   "id": "195e7afa",
   "metadata": {},
   "outputs": [
    {
     "name": "stdout",
     "output_type": "stream",
     "text": [
      "28\n",
      "496\n"
     ]
    }
   ],
   "source": [
    "perfect_range(10,1000)"
   ]
  },
  {
   "cell_type": "code",
   "execution_count": 6,
   "id": "bd5aec1c",
   "metadata": {},
   "outputs": [
    {
     "name": "stdout",
     "output_type": "stream",
     "text": [
      "[5, 11, 13, 7, 17, 41]\n"
     ]
    }
   ],
   "source": [
    "\"\"\"Get prime numbers from given list\"\"\"\n",
    "ls = [1,5,4,10,11,13,98,12,68,7, 17, 41]\n",
    "prime_nos =[]\n",
    "for i in ls:\n",
    "    c=0\n",
    "    for j in range(1,i):\n",
    "        if(i%j==0):\n",
    "            c=c+1\n",
    "    if c==1:\n",
    "        prime_nos.append(i)\n",
    "        \n",
    "print(prime_nos)"
   ]
  },
  {
   "cell_type": "code",
   "execution_count": 7,
   "id": "0da104d3",
   "metadata": {},
   "outputs": [
    {
     "name": "stdout",
     "output_type": "stream",
     "text": [
      "[4, 10, 98, 12, 68]\n"
     ]
    }
   ],
   "source": [
    "\"\"\"Get composite numbers from given list\"\"\"\n",
    "ls = [1,5,4,10,11,13,98,12,68, 7 , 17]\n",
    "comp_nos =[]\n",
    "for i in ls:\n",
    "    c=0\n",
    "    for j in range(1,i):\n",
    "        if(i%j==0):\n",
    "            c=c+1\n",
    "    if c>=2:\n",
    "        comp_nos.append(i)\n",
    "        \n",
    "print(comp_nos)"
   ]
  },
  {
   "cell_type": "code",
   "execution_count": 14,
   "id": "5f7dbf53",
   "metadata": {},
   "outputs": [
    {
     "name": "stdout",
     "output_type": "stream",
     "text": [
      "Enter any number\n",
      "21\n",
      "21 is valid a number\n",
      "21 is an ODD number\n"
     ]
    }
   ],
   "source": [
    "\"\"\"Check number is even or odd\"\"\"\n",
    "\n",
    "print(\"Enter any number\")\n",
    "\n",
    "num = int(input())\n",
    "if num > 0:\n",
    "    print(\"{} is valid a number\".format(num))\n",
    "    if num%2==0:\n",
    "        print('\\n')\n",
    "        print(\"{} is an EVEN number\".format(num))\n",
    "    elif num%2==1:\n",
    "        print(\"{} is an ODD number\".format(num))\n",
    "else:\n",
    "    print(\"{} is invalid number\".format(num))"
   ]
  },
  {
   "cell_type": "code",
   "execution_count": null,
   "id": "f5226d36",
   "metadata": {},
   "outputs": [],
   "source": [
    "\"\"\"Fibinacci series using yield generator\"\"\""
   ]
  },
  {
   "cell_type": "markdown",
   "id": "b2295470",
   "metadata": {},
   "source": [
    "### Method 1"
   ]
  },
  {
   "cell_type": "code",
   "execution_count": 51,
   "id": "ade524b5",
   "metadata": {},
   "outputs": [],
   "source": [
    "def fib(rnge):\n",
    "    a,b = 0,1\n",
    "    while True:\n",
    "        yield a\n",
    "        a,b=b,a+b\n",
    "\n",
    "def fib2(rng):\n",
    "    for f in fib(rng):\n",
    "        if f>rng:\n",
    "            break\n",
    "        print(f)\n",
    "        "
   ]
  },
  {
   "cell_type": "code",
   "execution_count": 52,
   "id": "179e45a9",
   "metadata": {},
   "outputs": [
    {
     "name": "stdout",
     "output_type": "stream",
     "text": [
      "0\n",
      "1\n",
      "1\n",
      "2\n",
      "3\n",
      "5\n",
      "8\n"
     ]
    }
   ],
   "source": [
    "fib2(10)"
   ]
  },
  {
   "cell_type": "markdown",
   "id": "02921763",
   "metadata": {},
   "source": [
    "### Method 2"
   ]
  },
  {
   "cell_type": "code",
   "execution_count": 33,
   "id": "9cf9850d",
   "metadata": {},
   "outputs": [],
   "source": [
    "def fib(n):\n",
    "    a=0\n",
    "    b=1\n",
    "    for x in range(n):\n",
    "        yield a\n",
    "        a,b = b, a+b"
   ]
  },
  {
   "cell_type": "code",
   "execution_count": 35,
   "id": "f88a5d36",
   "metadata": {},
   "outputs": [
    {
     "name": "stdout",
     "output_type": "stream",
     "text": [
      "0\n",
      "1\n",
      "1\n",
      "2\n",
      "3\n",
      "5\n",
      "8\n",
      "13\n",
      "21\n",
      "34\n",
      "55\n",
      "89\n"
     ]
    }
   ],
   "source": [
    "for fib_series in fib(12):\n",
    "    print(fib_series)"
   ]
  },
  {
   "cell_type": "code",
   "execution_count": null,
   "id": "e98f1b3c",
   "metadata": {},
   "outputs": [],
   "source": [
    "'''Sorting data in pandas'''"
   ]
  },
  {
   "cell_type": "code",
   "execution_count": 30,
   "id": "890b3b1f",
   "metadata": {},
   "outputs": [],
   "source": [
    "import pandas as pd\n",
    "import numpy as np\n",
    "df = pd.DataFrame({'a':[1,2,5,3,4,7,8], 'b':[2,1,6,8,23,98,34],'c':[12,32,44,65,8,65,4], 'salary':[np.nan,32,np.nan,87,21,np.nan,56]})"
   ]
  },
  {
   "cell_type": "code",
   "execution_count": 31,
   "id": "4e762f0e",
   "metadata": {},
   "outputs": [
    {
     "data": {
      "text/html": [
       "<div>\n",
       "<style scoped>\n",
       "    .dataframe tbody tr th:only-of-type {\n",
       "        vertical-align: middle;\n",
       "    }\n",
       "\n",
       "    .dataframe tbody tr th {\n",
       "        vertical-align: top;\n",
       "    }\n",
       "\n",
       "    .dataframe thead th {\n",
       "        text-align: right;\n",
       "    }\n",
       "</style>\n",
       "<table border=\"1\" class=\"dataframe\">\n",
       "  <thead>\n",
       "    <tr style=\"text-align: right;\">\n",
       "      <th></th>\n",
       "      <th>a</th>\n",
       "      <th>b</th>\n",
       "      <th>c</th>\n",
       "      <th>salary</th>\n",
       "    </tr>\n",
       "  </thead>\n",
       "  <tbody>\n",
       "    <tr>\n",
       "      <th>0</th>\n",
       "      <td>1</td>\n",
       "      <td>2</td>\n",
       "      <td>12</td>\n",
       "      <td>NaN</td>\n",
       "    </tr>\n",
       "    <tr>\n",
       "      <th>1</th>\n",
       "      <td>2</td>\n",
       "      <td>1</td>\n",
       "      <td>32</td>\n",
       "      <td>32.0</td>\n",
       "    </tr>\n",
       "    <tr>\n",
       "      <th>2</th>\n",
       "      <td>5</td>\n",
       "      <td>6</td>\n",
       "      <td>44</td>\n",
       "      <td>NaN</td>\n",
       "    </tr>\n",
       "    <tr>\n",
       "      <th>3</th>\n",
       "      <td>3</td>\n",
       "      <td>8</td>\n",
       "      <td>65</td>\n",
       "      <td>87.0</td>\n",
       "    </tr>\n",
       "    <tr>\n",
       "      <th>4</th>\n",
       "      <td>4</td>\n",
       "      <td>23</td>\n",
       "      <td>8</td>\n",
       "      <td>21.0</td>\n",
       "    </tr>\n",
       "    <tr>\n",
       "      <th>5</th>\n",
       "      <td>7</td>\n",
       "      <td>98</td>\n",
       "      <td>65</td>\n",
       "      <td>NaN</td>\n",
       "    </tr>\n",
       "    <tr>\n",
       "      <th>6</th>\n",
       "      <td>8</td>\n",
       "      <td>34</td>\n",
       "      <td>4</td>\n",
       "      <td>56.0</td>\n",
       "    </tr>\n",
       "  </tbody>\n",
       "</table>\n",
       "</div>"
      ],
      "text/plain": [
       "   a   b   c  salary\n",
       "0  1   2  12     NaN\n",
       "1  2   1  32    32.0\n",
       "2  5   6  44     NaN\n",
       "3  3   8  65    87.0\n",
       "4  4  23   8    21.0\n",
       "5  7  98  65     NaN\n",
       "6  8  34   4    56.0"
      ]
     },
     "execution_count": 31,
     "metadata": {},
     "output_type": "execute_result"
    }
   ],
   "source": [
    "df"
   ]
  },
  {
   "cell_type": "code",
   "execution_count": 43,
   "id": "e53b4435",
   "metadata": {},
   "outputs": [
    {
     "data": {
      "text/html": [
       "<div>\n",
       "<style scoped>\n",
       "    .dataframe tbody tr th:only-of-type {\n",
       "        vertical-align: middle;\n",
       "    }\n",
       "\n",
       "    .dataframe tbody tr th {\n",
       "        vertical-align: top;\n",
       "    }\n",
       "\n",
       "    .dataframe thead th {\n",
       "        text-align: right;\n",
       "    }\n",
       "</style>\n",
       "<table border=\"1\" class=\"dataframe\">\n",
       "  <thead>\n",
       "    <tr style=\"text-align: right;\">\n",
       "      <th></th>\n",
       "      <th>a</th>\n",
       "      <th>b</th>\n",
       "      <th>c</th>\n",
       "      <th>salary</th>\n",
       "    </tr>\n",
       "  </thead>\n",
       "  <tbody>\n",
       "    <tr>\n",
       "      <th>0</th>\n",
       "      <td>1</td>\n",
       "      <td>2</td>\n",
       "      <td>12</td>\n",
       "      <td>NaN</td>\n",
       "    </tr>\n",
       "    <tr>\n",
       "      <th>2</th>\n",
       "      <td>5</td>\n",
       "      <td>6</td>\n",
       "      <td>44</td>\n",
       "      <td>NaN</td>\n",
       "    </tr>\n",
       "    <tr>\n",
       "      <th>5</th>\n",
       "      <td>7</td>\n",
       "      <td>98</td>\n",
       "      <td>65</td>\n",
       "      <td>NaN</td>\n",
       "    </tr>\n",
       "  </tbody>\n",
       "</table>\n",
       "</div>"
      ],
      "text/plain": [
       "   a   b   c  salary\n",
       "0  1   2  12     NaN\n",
       "2  5   6  44     NaN\n",
       "5  7  98  65     NaN"
      ]
     },
     "execution_count": 43,
     "metadata": {},
     "output_type": "execute_result"
    }
   ],
   "source": [
    "df[df['salary'].isnull()]"
   ]
  },
  {
   "cell_type": "code",
   "execution_count": 56,
   "id": "cbd93368",
   "metadata": {},
   "outputs": [
    {
     "data": {
      "text/html": [
       "<div>\n",
       "<style scoped>\n",
       "    .dataframe tbody tr th:only-of-type {\n",
       "        vertical-align: middle;\n",
       "    }\n",
       "\n",
       "    .dataframe tbody tr th {\n",
       "        vertical-align: top;\n",
       "    }\n",
       "\n",
       "    .dataframe thead th {\n",
       "        text-align: right;\n",
       "    }\n",
       "</style>\n",
       "<table border=\"1\" class=\"dataframe\">\n",
       "  <thead>\n",
       "    <tr style=\"text-align: right;\">\n",
       "      <th></th>\n",
       "      <th>salary</th>\n",
       "      <th>c</th>\n",
       "      <th>b</th>\n",
       "      <th>a</th>\n",
       "    </tr>\n",
       "  </thead>\n",
       "  <tbody>\n",
       "    <tr>\n",
       "      <th>6</th>\n",
       "      <td>56.0</td>\n",
       "      <td>4</td>\n",
       "      <td>34</td>\n",
       "      <td>8</td>\n",
       "    </tr>\n",
       "    <tr>\n",
       "      <th>5</th>\n",
       "      <td>NaN</td>\n",
       "      <td>65</td>\n",
       "      <td>98</td>\n",
       "      <td>7</td>\n",
       "    </tr>\n",
       "    <tr>\n",
       "      <th>4</th>\n",
       "      <td>21.0</td>\n",
       "      <td>8</td>\n",
       "      <td>23</td>\n",
       "      <td>4</td>\n",
       "    </tr>\n",
       "    <tr>\n",
       "      <th>3</th>\n",
       "      <td>87.0</td>\n",
       "      <td>65</td>\n",
       "      <td>8</td>\n",
       "      <td>3</td>\n",
       "    </tr>\n",
       "    <tr>\n",
       "      <th>2</th>\n",
       "      <td>NaN</td>\n",
       "      <td>44</td>\n",
       "      <td>6</td>\n",
       "      <td>5</td>\n",
       "    </tr>\n",
       "    <tr>\n",
       "      <th>1</th>\n",
       "      <td>32.0</td>\n",
       "      <td>32</td>\n",
       "      <td>1</td>\n",
       "      <td>2</td>\n",
       "    </tr>\n",
       "    <tr>\n",
       "      <th>0</th>\n",
       "      <td>NaN</td>\n",
       "      <td>12</td>\n",
       "      <td>2</td>\n",
       "      <td>1</td>\n",
       "    </tr>\n",
       "  </tbody>\n",
       "</table>\n",
       "</div>"
      ],
      "text/plain": [
       "   salary   c   b  a\n",
       "6    56.0   4  34  8\n",
       "5     NaN  65  98  7\n",
       "4    21.0   8  23  4\n",
       "3    87.0  65   8  3\n",
       "2     NaN  44   6  5\n",
       "1    32.0  32   1  2\n",
       "0     NaN  12   2  1"
      ]
     },
     "execution_count": 56,
     "metadata": {},
     "output_type": "execute_result"
    }
   ],
   "source": [
    "df.iloc[::-1,::-1]"
   ]
  },
  {
   "cell_type": "code",
   "execution_count": 53,
   "id": "2eeca655",
   "metadata": {},
   "outputs": [],
   "source": [
    "import pandas as pd\n",
    "import numpy as np\n",
    "\n",
    "data = {'first_set': [1,2,3,4,5,np.nan,6,7,np.nan,np.nan,8,9,10,np.nan],\n",
    "        'second_set': ['a','b',np.nan,np.nan,'c','d','e',np.nan,np.nan,'f','g',np.nan,'h','i']\n",
    "        }\n",
    "df = pd.DataFrame(data,columns=['first_set','second_set'])"
   ]
  }
 ],
 "metadata": {
  "kernelspec": {
   "display_name": "Python 3 (ipykernel)",
   "language": "python",
   "name": "python3"
  },
  "language_info": {
   "codemirror_mode": {
    "name": "ipython",
    "version": 3
   },
   "file_extension": ".py",
   "mimetype": "text/x-python",
   "name": "python",
   "nbconvert_exporter": "python",
   "pygments_lexer": "ipython3",
   "version": "3.9.12"
  }
 },
 "nbformat": 4,
 "nbformat_minor": 5
}
