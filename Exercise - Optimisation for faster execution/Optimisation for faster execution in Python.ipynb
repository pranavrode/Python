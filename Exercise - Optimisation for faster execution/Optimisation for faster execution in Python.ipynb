{
 "cells": [
  {
   "cell_type": "code",
   "execution_count": 1,
   "id": "6671feaf",
   "metadata": {},
   "outputs": [],
   "source": [
    "# Start Time\n",
    "from datetime import datetime\n",
    "start_time1 = datetime.now()"
   ]
  },
  {
   "cell_type": "code",
   "execution_count": 2,
   "id": "e81376e8",
   "metadata": {},
   "outputs": [],
   "source": [
    "# importing dependencies\n",
    "import pandas as pd\n",
    "import math"
   ]
  },
  {
   "cell_type": "code",
   "execution_count": 3,
   "id": "79b84d5d",
   "metadata": {},
   "outputs": [],
   "source": [
    "# Importing Source Sheet\n",
    "df_src = pd.read_excel('Problem_Dataset.xlsx' , sheet_name=0 )"
   ]
  },
  {
   "cell_type": "code",
   "execution_count": 4,
   "id": "b1e85d5d",
   "metadata": {},
   "outputs": [],
   "source": [
    "# Importing Destination Sheet\n",
    "df_des = pd.read_excel('Problem_Dataset.xlsx' , sheet_name=1)"
   ]
  },
  {
   "cell_type": "code",
   "execution_count": 5,
   "id": "96cf73db",
   "metadata": {},
   "outputs": [
    {
     "data": {
      "text/html": [
       "<div>\n",
       "<style scoped>\n",
       "    .dataframe tbody tr th:only-of-type {\n",
       "        vertical-align: middle;\n",
       "    }\n",
       "\n",
       "    .dataframe tbody tr th {\n",
       "        vertical-align: top;\n",
       "    }\n",
       "\n",
       "    .dataframe thead th {\n",
       "        text-align: right;\n",
       "    }\n",
       "</style>\n",
       "<table border=\"1\" class=\"dataframe\">\n",
       "  <thead>\n",
       "    <tr style=\"text-align: right;\">\n",
       "      <th></th>\n",
       "      <th>Latitude</th>\n",
       "      <th>Longitude</th>\n",
       "    </tr>\n",
       "  </thead>\n",
       "  <tbody>\n",
       "    <tr>\n",
       "      <th>0</th>\n",
       "      <td>13.022193</td>\n",
       "      <td>77.697762</td>\n",
       "    </tr>\n",
       "    <tr>\n",
       "      <th>1</th>\n",
       "      <td>13.030745</td>\n",
       "      <td>77.558343</td>\n",
       "    </tr>\n",
       "    <tr>\n",
       "      <th>2</th>\n",
       "      <td>12.928784</td>\n",
       "      <td>77.509375</td>\n",
       "    </tr>\n",
       "    <tr>\n",
       "      <th>3</th>\n",
       "      <td>13.026320</td>\n",
       "      <td>77.720210</td>\n",
       "    </tr>\n",
       "    <tr>\n",
       "      <th>4</th>\n",
       "      <td>12.948364</td>\n",
       "      <td>77.627783</td>\n",
       "    </tr>\n",
       "  </tbody>\n",
       "</table>\n",
       "</div>"
      ],
      "text/plain": [
       "    Latitude  Longitude\n",
       "0  13.022193  77.697762\n",
       "1  13.030745  77.558343\n",
       "2  12.928784  77.509375\n",
       "3  13.026320  77.720210\n",
       "4  12.948364  77.627783"
      ]
     },
     "execution_count": 5,
     "metadata": {},
     "output_type": "execute_result"
    }
   ],
   "source": [
    "df_src.head()  # top 5 records"
   ]
  },
  {
   "cell_type": "code",
   "execution_count": 6,
   "id": "7a04e36f",
   "metadata": {},
   "outputs": [
    {
     "data": {
      "text/plain": [
       "(5175, 2)"
      ]
     },
     "execution_count": 6,
     "metadata": {},
     "output_type": "execute_result"
    }
   ],
   "source": [
    "df_src.shape  "
   ]
  },
  {
   "cell_type": "code",
   "execution_count": 7,
   "id": "34544532",
   "metadata": {
    "scrolled": true
   },
   "outputs": [
    {
     "data": {
      "text/html": [
       "<div>\n",
       "<style scoped>\n",
       "    .dataframe tbody tr th:only-of-type {\n",
       "        vertical-align: middle;\n",
       "    }\n",
       "\n",
       "    .dataframe tbody tr th {\n",
       "        vertical-align: top;\n",
       "    }\n",
       "\n",
       "    .dataframe thead th {\n",
       "        text-align: right;\n",
       "    }\n",
       "</style>\n",
       "<table border=\"1\" class=\"dataframe\">\n",
       "  <thead>\n",
       "    <tr style=\"text-align: right;\">\n",
       "      <th></th>\n",
       "      <th>Latitude</th>\n",
       "      <th>Longitude</th>\n",
       "    </tr>\n",
       "  </thead>\n",
       "  <tbody>\n",
       "    <tr>\n",
       "      <th>0</th>\n",
       "      <td>28.519427</td>\n",
       "      <td>76.964814</td>\n",
       "    </tr>\n",
       "    <tr>\n",
       "      <th>1</th>\n",
       "      <td>28.521104</td>\n",
       "      <td>76.996469</td>\n",
       "    </tr>\n",
       "    <tr>\n",
       "      <th>2</th>\n",
       "      <td>28.522902</td>\n",
       "      <td>76.910281</td>\n",
       "    </tr>\n",
       "    <tr>\n",
       "      <th>3</th>\n",
       "      <td>28.523170</td>\n",
       "      <td>76.986546</td>\n",
       "    </tr>\n",
       "    <tr>\n",
       "      <th>4</th>\n",
       "      <td>28.526302</td>\n",
       "      <td>76.953613</td>\n",
       "    </tr>\n",
       "  </tbody>\n",
       "</table>\n",
       "</div>"
      ],
      "text/plain": [
       "    Latitude  Longitude\n",
       "0  28.519427  76.964814\n",
       "1  28.521104  76.996469\n",
       "2  28.522902  76.910281\n",
       "3  28.523170  76.986546\n",
       "4  28.526302  76.953613"
      ]
     },
     "execution_count": 7,
     "metadata": {},
     "output_type": "execute_result"
    }
   ],
   "source": [
    "df_des.head()  # top 5 records"
   ]
  },
  {
   "cell_type": "code",
   "execution_count": 8,
   "id": "da056461",
   "metadata": {},
   "outputs": [
    {
     "data": {
      "text/plain": [
       "(4817, 2)"
      ]
     },
     "execution_count": 8,
     "metadata": {},
     "output_type": "execute_result"
    }
   ],
   "source": [
    "df_des.shape "
   ]
  },
  {
   "cell_type": "code",
   "execution_count": 9,
   "id": "0163591e",
   "metadata": {},
   "outputs": [],
   "source": [
    "df_src = df_src.iloc[0:: , ::]  # selecting all records from Source"
   ]
  },
  {
   "cell_type": "code",
   "execution_count": 10,
   "id": "4fc10dc6",
   "metadata": {},
   "outputs": [],
   "source": [
    "df_des = df_des.iloc[0:: , ::]  # selecting all records from destination"
   ]
  },
  {
   "cell_type": "markdown",
   "id": "a3c29241",
   "metadata": {},
   "source": [
    "### Source Data"
   ]
  },
  {
   "cell_type": "code",
   "execution_count": 11,
   "id": "786a2df2",
   "metadata": {},
   "outputs": [],
   "source": [
    "# We create here new column for SOURCE_ID values\n",
    "df_src.insert(loc=0, column='SOURCE_ID', value=range(0 , 0 + len(df_src)))"
   ]
  },
  {
   "cell_type": "code",
   "execution_count": 12,
   "id": "905db598",
   "metadata": {},
   "outputs": [],
   "source": [
    "df_src.rename(columns={'Latitude' : 'SOURCE_Latitude' , 'Longitude' : 'SOURCE_Longitude'} , inplace=True)"
   ]
  },
  {
   "cell_type": "code",
   "execution_count": 13,
   "id": "e2d6331d",
   "metadata": {},
   "outputs": [
    {
     "data": {
      "text/html": [
       "<div>\n",
       "<style scoped>\n",
       "    .dataframe tbody tr th:only-of-type {\n",
       "        vertical-align: middle;\n",
       "    }\n",
       "\n",
       "    .dataframe tbody tr th {\n",
       "        vertical-align: top;\n",
       "    }\n",
       "\n",
       "    .dataframe thead th {\n",
       "        text-align: right;\n",
       "    }\n",
       "</style>\n",
       "<table border=\"1\" class=\"dataframe\">\n",
       "  <thead>\n",
       "    <tr style=\"text-align: right;\">\n",
       "      <th></th>\n",
       "      <th>SOURCE_ID</th>\n",
       "      <th>SOURCE_Latitude</th>\n",
       "      <th>SOURCE_Longitude</th>\n",
       "    </tr>\n",
       "  </thead>\n",
       "  <tbody>\n",
       "    <tr>\n",
       "      <th>0</th>\n",
       "      <td>0</td>\n",
       "      <td>13.022193</td>\n",
       "      <td>77.697762</td>\n",
       "    </tr>\n",
       "    <tr>\n",
       "      <th>1</th>\n",
       "      <td>1</td>\n",
       "      <td>13.030745</td>\n",
       "      <td>77.558343</td>\n",
       "    </tr>\n",
       "    <tr>\n",
       "      <th>2</th>\n",
       "      <td>2</td>\n",
       "      <td>12.928784</td>\n",
       "      <td>77.509375</td>\n",
       "    </tr>\n",
       "    <tr>\n",
       "      <th>3</th>\n",
       "      <td>3</td>\n",
       "      <td>13.026320</td>\n",
       "      <td>77.720210</td>\n",
       "    </tr>\n",
       "    <tr>\n",
       "      <th>4</th>\n",
       "      <td>4</td>\n",
       "      <td>12.948364</td>\n",
       "      <td>77.627783</td>\n",
       "    </tr>\n",
       "    <tr>\n",
       "      <th>...</th>\n",
       "      <td>...</td>\n",
       "      <td>...</td>\n",
       "      <td>...</td>\n",
       "    </tr>\n",
       "    <tr>\n",
       "      <th>5170</th>\n",
       "      <td>5170</td>\n",
       "      <td>13.012562</td>\n",
       "      <td>77.605651</td>\n",
       "    </tr>\n",
       "    <tr>\n",
       "      <th>5171</th>\n",
       "      <td>5171</td>\n",
       "      <td>13.003766</td>\n",
       "      <td>77.612212</td>\n",
       "    </tr>\n",
       "    <tr>\n",
       "      <th>5172</th>\n",
       "      <td>5172</td>\n",
       "      <td>12.905201</td>\n",
       "      <td>77.686538</td>\n",
       "    </tr>\n",
       "    <tr>\n",
       "      <th>5173</th>\n",
       "      <td>5173</td>\n",
       "      <td>12.976893</td>\n",
       "      <td>77.576333</td>\n",
       "    </tr>\n",
       "    <tr>\n",
       "      <th>5174</th>\n",
       "      <td>5174</td>\n",
       "      <td>12.898712</td>\n",
       "      <td>77.750399</td>\n",
       "    </tr>\n",
       "  </tbody>\n",
       "</table>\n",
       "<p>5175 rows × 3 columns</p>\n",
       "</div>"
      ],
      "text/plain": [
       "      SOURCE_ID  SOURCE_Latitude  SOURCE_Longitude\n",
       "0             0        13.022193         77.697762\n",
       "1             1        13.030745         77.558343\n",
       "2             2        12.928784         77.509375\n",
       "3             3        13.026320         77.720210\n",
       "4             4        12.948364         77.627783\n",
       "...         ...              ...               ...\n",
       "5170       5170        13.012562         77.605651\n",
       "5171       5171        13.003766         77.612212\n",
       "5172       5172        12.905201         77.686538\n",
       "5173       5173        12.976893         77.576333\n",
       "5174       5174        12.898712         77.750399\n",
       "\n",
       "[5175 rows x 3 columns]"
      ]
     },
     "execution_count": 13,
     "metadata": {},
     "output_type": "execute_result"
    }
   ],
   "source": [
    "df_src"
   ]
  },
  {
   "cell_type": "markdown",
   "id": "1164fc1b",
   "metadata": {},
   "source": [
    "### Destination Data"
   ]
  },
  {
   "cell_type": "code",
   "execution_count": 14,
   "id": "77c02fc4",
   "metadata": {},
   "outputs": [],
   "source": [
    "# We create here new column for DESTINATION_ID values\n",
    "df_des.insert(loc=0, column='DESTINATION_ID', value=range(0 , 0 + len(df_des)))"
   ]
  },
  {
   "cell_type": "code",
   "execution_count": 15,
   "id": "4e4a0631",
   "metadata": {},
   "outputs": [],
   "source": [
    "df_des.rename(columns={'Latitude' : 'DESTINATION_Latitude' , 'Longitude' : 'DESTINATION_Longitude'} , inplace=True)"
   ]
  },
  {
   "cell_type": "code",
   "execution_count": 16,
   "id": "afd6da4b",
   "metadata": {},
   "outputs": [
    {
     "data": {
      "text/html": [
       "<div>\n",
       "<style scoped>\n",
       "    .dataframe tbody tr th:only-of-type {\n",
       "        vertical-align: middle;\n",
       "    }\n",
       "\n",
       "    .dataframe tbody tr th {\n",
       "        vertical-align: top;\n",
       "    }\n",
       "\n",
       "    .dataframe thead th {\n",
       "        text-align: right;\n",
       "    }\n",
       "</style>\n",
       "<table border=\"1\" class=\"dataframe\">\n",
       "  <thead>\n",
       "    <tr style=\"text-align: right;\">\n",
       "      <th></th>\n",
       "      <th>DESTINATION_ID</th>\n",
       "      <th>DESTINATION_Latitude</th>\n",
       "      <th>DESTINATION_Longitude</th>\n",
       "    </tr>\n",
       "  </thead>\n",
       "  <tbody>\n",
       "    <tr>\n",
       "      <th>0</th>\n",
       "      <td>0</td>\n",
       "      <td>28.519427</td>\n",
       "      <td>76.964814</td>\n",
       "    </tr>\n",
       "    <tr>\n",
       "      <th>1</th>\n",
       "      <td>1</td>\n",
       "      <td>28.521104</td>\n",
       "      <td>76.996469</td>\n",
       "    </tr>\n",
       "    <tr>\n",
       "      <th>2</th>\n",
       "      <td>2</td>\n",
       "      <td>28.522902</td>\n",
       "      <td>76.910281</td>\n",
       "    </tr>\n",
       "    <tr>\n",
       "      <th>3</th>\n",
       "      <td>3</td>\n",
       "      <td>28.523170</td>\n",
       "      <td>76.986546</td>\n",
       "    </tr>\n",
       "    <tr>\n",
       "      <th>4</th>\n",
       "      <td>4</td>\n",
       "      <td>28.526302</td>\n",
       "      <td>76.953613</td>\n",
       "    </tr>\n",
       "    <tr>\n",
       "      <th>...</th>\n",
       "      <td>...</td>\n",
       "      <td>...</td>\n",
       "      <td>...</td>\n",
       "    </tr>\n",
       "    <tr>\n",
       "      <th>4812</th>\n",
       "      <td>4812</td>\n",
       "      <td>28.715997</td>\n",
       "      <td>77.268173</td>\n",
       "    </tr>\n",
       "    <tr>\n",
       "      <th>4813</th>\n",
       "      <td>4813</td>\n",
       "      <td>28.716010</td>\n",
       "      <td>77.117582</td>\n",
       "    </tr>\n",
       "    <tr>\n",
       "      <th>4814</th>\n",
       "      <td>4814</td>\n",
       "      <td>28.716233</td>\n",
       "      <td>77.113719</td>\n",
       "    </tr>\n",
       "    <tr>\n",
       "      <th>4815</th>\n",
       "      <td>4815</td>\n",
       "      <td>28.716576</td>\n",
       "      <td>77.267506</td>\n",
       "    </tr>\n",
       "    <tr>\n",
       "      <th>4816</th>\n",
       "      <td>4816</td>\n",
       "      <td>28.716757</td>\n",
       "      <td>77.112978</td>\n",
       "    </tr>\n",
       "  </tbody>\n",
       "</table>\n",
       "<p>4817 rows × 3 columns</p>\n",
       "</div>"
      ],
      "text/plain": [
       "      DESTINATION_ID  DESTINATION_Latitude  DESTINATION_Longitude\n",
       "0                  0             28.519427              76.964814\n",
       "1                  1             28.521104              76.996469\n",
       "2                  2             28.522902              76.910281\n",
       "3                  3             28.523170              76.986546\n",
       "4                  4             28.526302              76.953613\n",
       "...              ...                   ...                    ...\n",
       "4812            4812             28.715997              77.268173\n",
       "4813            4813             28.716010              77.117582\n",
       "4814            4814             28.716233              77.113719\n",
       "4815            4815             28.716576              77.267506\n",
       "4816            4816             28.716757              77.112978\n",
       "\n",
       "[4817 rows x 3 columns]"
      ]
     },
     "execution_count": 16,
     "metadata": {},
     "output_type": "execute_result"
    }
   ],
   "source": [
    "df_des"
   ]
  },
  {
   "cell_type": "markdown",
   "id": "88dc6945",
   "metadata": {},
   "source": [
    "### Calculating distance between source and destination points with formula"
   ]
  },
  {
   "cell_type": "code",
   "execution_count": 17,
   "id": "f66ed096",
   "metadata": {},
   "outputs": [
    {
     "name": "stdout",
     "output_type": "stream",
     "text": [
      "Duration: 0:02:33.316228\n"
     ]
    }
   ],
   "source": [
    "\n",
    "from datetime import datetime\n",
    "start_time = datetime.now()\n",
    "\n",
    "\n",
    "from math import sin, cos, sqrt, atan2, radians, pi\n",
    "\n",
    "\n",
    "lst=[]\n",
    "r1=[]\n",
    "r2=[]\n",
    "r3=[]\n",
    "q1=[]\n",
    "q2=[]\n",
    "q3=[]\n",
    "\n",
    "for r in df_src.itertuples():\n",
    "    for q in df_des.itertuples():\n",
    "        \n",
    "        #R = 6371.0         # approximate radius of earth in km\n",
    "\n",
    "        lat1 = pi/180 * (r[2])\n",
    "        lon1 = pi/180 * (r[3])\n",
    "        lat2 = pi/180 * (q[2])\n",
    "        lon2 = pi/180 * (q[3])\n",
    "            \n",
    "        #dlon = lon2 - lon1\n",
    "        #dlat = lat2 - lat1\n",
    "\n",
    "        #a = (sin((lat2 - lat1)/2)**2+cos(lat1)*cos(lat2)*sin((lon2 - lon1)/2)**2)\n",
    "        #c = 2 * atan2(sqrt(a), sqrt(1 - a))\n",
    "\n",
    "        dis = 6371 * ( 2 * atan2( ((sin((lat2 - lat1)/2)**2+cos(lat1)*cos(lat2)*sin((lon2 - lon1)/2)**2))**0.5 , \n",
    "                                 (1 - (sin((lat2 - lat1)/2)**2+cos(lat1)*cos(lat2)*sin((lon2 - lon1)/2)**2))**0.5 ) )\n",
    "        \n",
    "        lst.append(dis)\n",
    "        r1.append(r[1])\n",
    "        r2.append(r[2])\n",
    "        r3.append(r[3])\n",
    "        q1.append(q[1])\n",
    "        q2.append(q[2])\n",
    "        q3.append(q[3])\n",
    "        \n",
    "            \n",
    "\n",
    "        \n",
    "    \n",
    "    \n",
    "end_time = datetime.now()\n",
    "print('Duration: {}'.format(end_time - start_time))"
   ]
  },
  {
   "cell_type": "code",
   "execution_count": 18,
   "id": "526e9b14",
   "metadata": {},
   "outputs": [
    {
     "name": "stdout",
     "output_type": "stream",
     "text": [
      "Duration: 0:00:39.230532\n"
     ]
    }
   ],
   "source": [
    "from datetime import datetime\n",
    "start_time = datetime.now()\n",
    "\n",
    "r11 = pd.DataFrame(r1, columns =['SOURCE_ID'])\n",
    "r11['SOURCE_ID'] = r11['SOURCE_ID'].astype(int)\n",
    "r22 = pd.DataFrame(r2, columns =['SOURCE_Latitude'])\n",
    "r33 = pd.DataFrame(r3, columns =['SOURCE_Longitude'])\n",
    "\n",
    "q11 = pd.DataFrame(q1, columns =['DESTINATION_ID'])\n",
    "q11['DESTINATION_ID'] = q11['DESTINATION_ID'].astype(int)\n",
    "q22 = pd.DataFrame(q2, columns =['DESTINATION_Latitude'])\n",
    "q33 = pd.DataFrame(q3, columns =['DESTINATION_Longitude'])\n",
    "\n",
    "result = pd.DataFrame(lst, columns =['DISTANCE_KM'])\n",
    "result['DISTANCE_KM'] = result['DISTANCE_KM'].astype(float)\n",
    "\n",
    "df = pd.concat([r11,r22,r33,q11,q22,q33,result], axis=1)\n",
    "\n",
    "    \n",
    "end_time = datetime.now()\n",
    "print('Duration: {}'.format(end_time - start_time))"
   ]
  },
  {
   "cell_type": "code",
   "execution_count": 19,
   "id": "e807cb92",
   "metadata": {},
   "outputs": [
    {
     "data": {
      "text/html": [
       "<div>\n",
       "<style scoped>\n",
       "    .dataframe tbody tr th:only-of-type {\n",
       "        vertical-align: middle;\n",
       "    }\n",
       "\n",
       "    .dataframe tbody tr th {\n",
       "        vertical-align: top;\n",
       "    }\n",
       "\n",
       "    .dataframe thead th {\n",
       "        text-align: right;\n",
       "    }\n",
       "</style>\n",
       "<table border=\"1\" class=\"dataframe\">\n",
       "  <thead>\n",
       "    <tr style=\"text-align: right;\">\n",
       "      <th></th>\n",
       "      <th>SOURCE_ID</th>\n",
       "      <th>SOURCE_Latitude</th>\n",
       "      <th>SOURCE_Longitude</th>\n",
       "      <th>DESTINATION_ID</th>\n",
       "      <th>DESTINATION_Latitude</th>\n",
       "      <th>DESTINATION_Longitude</th>\n",
       "      <th>DISTANCE_KM</th>\n",
       "    </tr>\n",
       "  </thead>\n",
       "  <tbody>\n",
       "    <tr>\n",
       "      <th>0</th>\n",
       "      <td>0</td>\n",
       "      <td>13.022193</td>\n",
       "      <td>77.697762</td>\n",
       "      <td>0</td>\n",
       "      <td>28.519427</td>\n",
       "      <td>76.964814</td>\n",
       "      <td>1724.883195</td>\n",
       "    </tr>\n",
       "    <tr>\n",
       "      <th>1</th>\n",
       "      <td>0</td>\n",
       "      <td>13.022193</td>\n",
       "      <td>77.697762</td>\n",
       "      <td>1</td>\n",
       "      <td>28.521104</td>\n",
       "      <td>76.996469</td>\n",
       "      <td>1724.928447</td>\n",
       "    </tr>\n",
       "    <tr>\n",
       "      <th>2</th>\n",
       "      <td>0</td>\n",
       "      <td>13.022193</td>\n",
       "      <td>77.697762</td>\n",
       "      <td>2</td>\n",
       "      <td>28.522902</td>\n",
       "      <td>76.910281</td>\n",
       "      <td>1725.526640</td>\n",
       "    </tr>\n",
       "    <tr>\n",
       "      <th>3</th>\n",
       "      <td>0</td>\n",
       "      <td>13.022193</td>\n",
       "      <td>77.697762</td>\n",
       "      <td>3</td>\n",
       "      <td>28.523170</td>\n",
       "      <td>76.986546</td>\n",
       "      <td>1725.201427</td>\n",
       "    </tr>\n",
       "    <tr>\n",
       "      <th>4</th>\n",
       "      <td>0</td>\n",
       "      <td>13.022193</td>\n",
       "      <td>77.697762</td>\n",
       "      <td>4</td>\n",
       "      <td>28.526302</td>\n",
       "      <td>76.953613</td>\n",
       "      <td>1725.698226</td>\n",
       "    </tr>\n",
       "    <tr>\n",
       "      <th>...</th>\n",
       "      <td>...</td>\n",
       "      <td>...</td>\n",
       "      <td>...</td>\n",
       "      <td>...</td>\n",
       "      <td>...</td>\n",
       "      <td>...</td>\n",
       "      <td>...</td>\n",
       "    </tr>\n",
       "    <tr>\n",
       "      <th>24927970</th>\n",
       "      <td>5174</td>\n",
       "      <td>12.898712</td>\n",
       "      <td>77.750399</td>\n",
       "      <td>4812</td>\n",
       "      <td>28.715997</td>\n",
       "      <td>77.268173</td>\n",
       "      <td>1759.509488</td>\n",
       "    </tr>\n",
       "    <tr>\n",
       "      <th>24927971</th>\n",
       "      <td>5174</td>\n",
       "      <td>12.898712</td>\n",
       "      <td>77.750399</td>\n",
       "      <td>4813</td>\n",
       "      <td>28.716010</td>\n",
       "      <td>77.117582</td>\n",
       "      <td>1760.021641</td>\n",
       "    </tr>\n",
       "    <tr>\n",
       "      <th>24927972</th>\n",
       "      <td>5174</td>\n",
       "      <td>12.898712</td>\n",
       "      <td>77.750399</td>\n",
       "      <td>4814</td>\n",
       "      <td>28.716233</td>\n",
       "      <td>77.113719</td>\n",
       "      <td>1760.061301</td>\n",
       "    </tr>\n",
       "    <tr>\n",
       "      <th>24927973</th>\n",
       "      <td>5174</td>\n",
       "      <td>12.898712</td>\n",
       "      <td>77.750399</td>\n",
       "      <td>4815</td>\n",
       "      <td>28.716576</td>\n",
       "      <td>77.267506</td>\n",
       "      <td>1759.575810</td>\n",
       "    </tr>\n",
       "    <tr>\n",
       "      <th>24927974</th>\n",
       "      <td>5174</td>\n",
       "      <td>12.898712</td>\n",
       "      <td>77.750399</td>\n",
       "      <td>4816</td>\n",
       "      <td>28.716757</td>\n",
       "      <td>77.112978</td>\n",
       "      <td>1760.122424</td>\n",
       "    </tr>\n",
       "  </tbody>\n",
       "</table>\n",
       "<p>24927975 rows × 7 columns</p>\n",
       "</div>"
      ],
      "text/plain": [
       "          SOURCE_ID  SOURCE_Latitude  SOURCE_Longitude  DESTINATION_ID  \\\n",
       "0                 0        13.022193         77.697762               0   \n",
       "1                 0        13.022193         77.697762               1   \n",
       "2                 0        13.022193         77.697762               2   \n",
       "3                 0        13.022193         77.697762               3   \n",
       "4                 0        13.022193         77.697762               4   \n",
       "...             ...              ...               ...             ...   \n",
       "24927970       5174        12.898712         77.750399            4812   \n",
       "24927971       5174        12.898712         77.750399            4813   \n",
       "24927972       5174        12.898712         77.750399            4814   \n",
       "24927973       5174        12.898712         77.750399            4815   \n",
       "24927974       5174        12.898712         77.750399            4816   \n",
       "\n",
       "          DESTINATION_Latitude  DESTINATION_Longitude  DISTANCE_KM  \n",
       "0                    28.519427              76.964814  1724.883195  \n",
       "1                    28.521104              76.996469  1724.928447  \n",
       "2                    28.522902              76.910281  1725.526640  \n",
       "3                    28.523170              76.986546  1725.201427  \n",
       "4                    28.526302              76.953613  1725.698226  \n",
       "...                        ...                    ...          ...  \n",
       "24927970             28.715997              77.268173  1759.509488  \n",
       "24927971             28.716010              77.117582  1760.021641  \n",
       "24927972             28.716233              77.113719  1760.061301  \n",
       "24927973             28.716576              77.267506  1759.575810  \n",
       "24927974             28.716757              77.112978  1760.122424  \n",
       "\n",
       "[24927975 rows x 7 columns]"
      ]
     },
     "execution_count": 19,
     "metadata": {},
     "output_type": "execute_result"
    }
   ],
   "source": [
    "# Final DataFrame with all calculations\n",
    "df"
   ]
  },
  {
   "cell_type": "code",
   "execution_count": 20,
   "id": "7c4eb6a0",
   "metadata": {},
   "outputs": [
    {
     "name": "stdout",
     "output_type": "stream",
     "text": [
      "Overall Total Execution time: 0:03:16.313905\n"
     ]
    }
   ],
   "source": [
    "# End Time\n",
    "end_time1 = datetime.now()\n",
    "print('Overall Total Execution time: {}'.format(end_time1 - start_time1))"
   ]
  },
  {
   "cell_type": "markdown",
   "id": "101c225d",
   "metadata": {},
   "source": [
    "# Conclusion :\n",
    "## - Here we calculated all combinations of distances 5175*4817=2.492 crore combinations.\n",
    "## - Here we optimised code with using 'for loop', itertuples, lists, math library for calculations with formula to reduce execution time for such larger number of calculations.\n",
    "## - We calculated distances and created dataframe with minimum time.\n",
    "## - Note: Here time will depend on your individual computer specifications and performance, in my case it have done all tasks one in around 3-4 mins."
   ]
  },
  {
   "cell_type": "code",
   "execution_count": null,
   "id": "c6d9bd29",
   "metadata": {},
   "outputs": [],
   "source": []
  }
 ],
 "metadata": {
  "kernelspec": {
   "display_name": "Python 3",
   "language": "python",
   "name": "python3"
  },
  "language_info": {
   "codemirror_mode": {
    "name": "ipython",
    "version": 3
   },
   "file_extension": ".py",
   "mimetype": "text/x-python",
   "name": "python",
   "nbconvert_exporter": "python",
   "pygments_lexer": "ipython3",
   "version": "3.8.8"
  }
 },
 "nbformat": 4,
 "nbformat_minor": 5
}
